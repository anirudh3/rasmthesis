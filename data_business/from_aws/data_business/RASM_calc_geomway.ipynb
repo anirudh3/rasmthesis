{
 "cells": [
  {
   "cell_type": "code",
   "execution_count": 30,
   "metadata": {},
   "outputs": [],
   "source": [
    "import os\n",
    "\n",
    "# import IPython.display as ipd\n",
    "import numpy as np\n",
    "import pandas as pd\n",
    "import matplotlib.pyplot as plt\n",
    "import seaborn as sns\n",
    "import sklearn as skl\n",
    "import sklearn.utils, sklearn.preprocessing, sklearn.decomposition, sklearn.svm\n",
    "import librosa\n",
    "import librosa.display\n",
    "# import get_related_artists as from_echo\n",
    "import re\n",
    "import pickle\n",
    "from IPython.display import display, HTML\n",
    "import python_utils as utils\n"
   ]
  },
  {
   "cell_type": "code",
   "execution_count": 31,
   "metadata": {},
   "outputs": [
    {
     "data": {
      "text/plain": [
       "((106576, 53), (163, 5), (106577, 519), (13132, 250))"
      ]
     },
     "execution_count": 31,
     "metadata": {},
     "output_type": "execute_result"
    }
   ],
   "source": [
    "# Load metadata and features.\n",
    "tracks = pd.read_csv('fma_metadata/tracks.csv')\n",
    "r_tracks = pd.read_csv('fma_metadata/raw_tracks.csv')\n",
    "genres = pd.read_csv('fma_metadata/genres.csv')\n",
    "features = pd.read_csv('fma_metadata/features.csv')\n",
    "echonest = pd.read_csv('fma_metadata/echonest.csv')\n",
    "r_artists = pd.read_csv('fma_metadata/raw_artists.csv')\n",
    "\n",
    "tracks.shape, genres.shape, features.shape, echonest.shape"
   ]
  },
  {
   "cell_type": "code",
   "execution_count": 32,
   "metadata": {},
   "outputs": [],
   "source": [
    "tracks_sm = tracks.loc[(tracks['set.1'] == 'small') & (tracks['set'] == 'training')]"
   ]
  },
  {
   "cell_type": "code",
   "execution_count": 33,
   "metadata": {},
   "outputs": [],
   "source": [
    "# Spotify  Business\n",
    "\n",
    "import sys\n",
    "import spotipy\n",
    "import pprint\n",
    "''' shows recommendations for the given artist\n",
    "'''\n",
    "\n",
    "\n",
    "from spotipy.oauth2 import SpotifyClientCredentials\n",
    "client_credentials_manager = SpotifyClientCredentials(client_id='ba6790bdcd434f06b7b577e344c6e0ae', client_secret='145715e565ff48469c306484896a34f5')\n",
    "sp = spotipy.Spotify(client_credentials_manager=client_credentials_manager)\n",
    "sp.trace=False\n",
    "\n",
    "def get_artist(name):\n",
    "    results = sp.search(q='artist:' + name, type='artist')\n",
    "    items = results['artists']['items']\n",
    "    if len(items) > 0:\n",
    "        return items[0]\n",
    "    else:\n",
    "        return None\n",
    "\n",
    "\n",
    "def get_related(uri):\n",
    "    \n",
    "    related = sp.artist_related_artists(uri)\n",
    "    ans = [] \n",
    "    \n",
    "    for artist in related['artists']:\n",
    "        ans.append(artist['name'])\n",
    "#        print artist['name']\n",
    "        \n",
    "    \n",
    "    return ans\n",
    "    \n",
    "def save_spot_rel_artists(name, table):\n",
    "    with open('%s.pickle'%name, 'wb') as writer:\n",
    "        pickle.dump(table, writer, protocol=pickle.HIGHEST_PROTOCOL)\n",
    "        \n",
    "def load_spot_rel_artists(name):\n",
    "    with open(name, 'rb') as handle:\n",
    "        thing = pickle.load(handle)   \n",
    "    return thing"
   ]
  },
  {
   "cell_type": "code",
   "execution_count": 6,
   "metadata": {},
   "outputs": [
    {
     "name": "stdout",
     "output_type": "stream",
     "text": [
      "0\n"
     ]
    },
    {
     "name": "stderr",
     "output_type": "stream",
     "text": [
      "ERROR:root:Internal Python error in the inspect module.\n",
      "Below is the traceback from this internal error.\n",
      "\n"
     ]
    },
    {
     "name": "stdout",
     "output_type": "stream",
     "text": [
      "Traceback (most recent call last):\n",
      "  File \"/Users/anirudhmani/anaconda2/lib/python2.7/site-packages/IPython/core/ultratb.py\", line 1132, in get_records\n",
      "    return _fixed_getinnerframes(etb, number_of_lines_of_context, tb_offset)\n",
      "  File \"/Users/anirudhmani/anaconda2/lib/python2.7/site-packages/IPython/core/ultratb.py\", line 313, in wrapped\n",
      "    return f(*args, **kwargs)\n",
      "  File \"/Users/anirudhmani/anaconda2/lib/python2.7/site-packages/IPython/core/ultratb.py\", line 358, in _fixed_getinnerframes\n",
      "    records = fix_frame_records_filenames(inspect.getinnerframes(etb, context))\n",
      "  File \"/Users/anirudhmani/anaconda2/lib/python2.7/inspect.py\", line 1051, in getinnerframes\n",
      "    framelist.append((tb.tb_frame,) + getframeinfo(tb, context))\n",
      "  File \"/Users/anirudhmani/anaconda2/lib/python2.7/inspect.py\", line 1011, in getframeinfo\n",
      "    filename = getsourcefile(frame) or getfile(frame)\n",
      "  File \"/Users/anirudhmani/anaconda2/lib/python2.7/inspect.py\", line 453, in getsourcefile\n",
      "    if hasattr(getmodule(object, filename), '__loader__'):\n",
      "  File \"/Users/anirudhmani/anaconda2/lib/python2.7/inspect.py\", line 499, in getmodule\n",
      "    os.path.realpath(f)] = module.__name__\n",
      "  File \"/Users/anirudhmani/anaconda2/lib/python2.7/posixpath.py\", line 375, in realpath\n",
      "    path, ok = _joinrealpath('', filename, {})\n",
      "  File \"/Users/anirudhmani/anaconda2/lib/python2.7/posixpath.py\", line 399, in _joinrealpath\n",
      "    newpath = join(path, name)\n",
      "  File \"/Users/anirudhmani/anaconda2/lib/python2.7/posixpath.py\", line 68, in join\n",
      "    if b.startswith('/'):\n",
      "KeyboardInterrupt\n"
     ]
    },
    {
     "ename": "IndexError",
     "evalue": "string index out of range",
     "output_type": "error",
     "traceback": [
      "\u001b[0;31m---------------------------------------------------------------------------\u001b[0m",
      "\u001b[0;31mIndexError\u001b[0m                                Traceback (most recent call last)",
      "\u001b[0;32m/Users/anirudhmani/anaconda2/lib/python2.7/site-packages/IPython/core/interactiveshell.pyc\u001b[0m in \u001b[0;36mrun_code\u001b[0;34m(self, code_obj, result)\u001b[0m\n\u001b[1;32m   2897\u001b[0m             \u001b[0;32mif\u001b[0m \u001b[0mresult\u001b[0m \u001b[0;32mis\u001b[0m \u001b[0;32mnot\u001b[0m \u001b[0mNone\u001b[0m\u001b[0;34m:\u001b[0m\u001b[0;34m\u001b[0m\u001b[0m\n\u001b[1;32m   2898\u001b[0m                 \u001b[0mresult\u001b[0m\u001b[0;34m.\u001b[0m\u001b[0merror_in_exec\u001b[0m \u001b[0;34m=\u001b[0m \u001b[0msys\u001b[0m\u001b[0;34m.\u001b[0m\u001b[0mexc_info\u001b[0m\u001b[0;34m(\u001b[0m\u001b[0;34m)\u001b[0m\u001b[0;34m[\u001b[0m\u001b[0;36m1\u001b[0m\u001b[0;34m]\u001b[0m\u001b[0;34m\u001b[0m\u001b[0m\n\u001b[0;32m-> 2899\u001b[0;31m             \u001b[0mself\u001b[0m\u001b[0;34m.\u001b[0m\u001b[0mshowtraceback\u001b[0m\u001b[0;34m(\u001b[0m\u001b[0;34m)\u001b[0m\u001b[0;34m\u001b[0m\u001b[0m\n\u001b[0m\u001b[1;32m   2900\u001b[0m         \u001b[0;32melse\u001b[0m\u001b[0;34m:\u001b[0m\u001b[0;34m\u001b[0m\u001b[0m\n\u001b[1;32m   2901\u001b[0m             \u001b[0moutflag\u001b[0m \u001b[0;34m=\u001b[0m \u001b[0;36m0\u001b[0m\u001b[0;34m\u001b[0m\u001b[0m\n",
      "\u001b[0;32m/Users/anirudhmani/anaconda2/lib/python2.7/site-packages/IPython/core/interactiveshell.pyc\u001b[0m in \u001b[0;36mshowtraceback\u001b[0;34m(self, exc_tuple, filename, tb_offset, exception_only)\u001b[0m\n\u001b[1;32m   1824\u001b[0m                     \u001b[0;32mexcept\u001b[0m \u001b[0mException\u001b[0m\u001b[0;34m:\u001b[0m\u001b[0;34m\u001b[0m\u001b[0m\n\u001b[1;32m   1825\u001b[0m                         stb = self.InteractiveTB.structured_traceback(etype,\n\u001b[0;32m-> 1826\u001b[0;31m                                             value, tb, tb_offset=tb_offset)\n\u001b[0m\u001b[1;32m   1827\u001b[0m \u001b[0;34m\u001b[0m\u001b[0m\n\u001b[1;32m   1828\u001b[0m                     \u001b[0mself\u001b[0m\u001b[0;34m.\u001b[0m\u001b[0m_showtraceback\u001b[0m\u001b[0;34m(\u001b[0m\u001b[0metype\u001b[0m\u001b[0;34m,\u001b[0m \u001b[0mvalue\u001b[0m\u001b[0;34m,\u001b[0m \u001b[0mstb\u001b[0m\u001b[0;34m)\u001b[0m\u001b[0;34m\u001b[0m\u001b[0m\n",
      "\u001b[0;32m/Users/anirudhmani/anaconda2/lib/python2.7/site-packages/IPython/core/ultratb.pyc\u001b[0m in \u001b[0;36mstructured_traceback\u001b[0;34m(self, etype, value, tb, tb_offset, number_of_lines_of_context)\u001b[0m\n\u001b[1;32m   1410\u001b[0m         \u001b[0mself\u001b[0m\u001b[0;34m.\u001b[0m\u001b[0mtb\u001b[0m \u001b[0;34m=\u001b[0m \u001b[0mtb\u001b[0m\u001b[0;34m\u001b[0m\u001b[0m\n\u001b[1;32m   1411\u001b[0m         return FormattedTB.structured_traceback(\n\u001b[0;32m-> 1412\u001b[0;31m             self, etype, value, tb, tb_offset, number_of_lines_of_context)\n\u001b[0m\u001b[1;32m   1413\u001b[0m \u001b[0;34m\u001b[0m\u001b[0m\n\u001b[1;32m   1414\u001b[0m \u001b[0;34m\u001b[0m\u001b[0m\n",
      "\u001b[0;32m/Users/anirudhmani/anaconda2/lib/python2.7/site-packages/IPython/core/ultratb.pyc\u001b[0m in \u001b[0;36mstructured_traceback\u001b[0;34m(self, etype, value, tb, tb_offset, number_of_lines_of_context)\u001b[0m\n\u001b[1;32m   1318\u001b[0m             \u001b[0;31m# Verbose modes need a full traceback\u001b[0m\u001b[0;34m\u001b[0m\u001b[0;34m\u001b[0m\u001b[0m\n\u001b[1;32m   1319\u001b[0m             return VerboseTB.structured_traceback(\n\u001b[0;32m-> 1320\u001b[0;31m                 \u001b[0mself\u001b[0m\u001b[0;34m,\u001b[0m \u001b[0metype\u001b[0m\u001b[0;34m,\u001b[0m \u001b[0mvalue\u001b[0m\u001b[0;34m,\u001b[0m \u001b[0mtb\u001b[0m\u001b[0;34m,\u001b[0m \u001b[0mtb_offset\u001b[0m\u001b[0;34m,\u001b[0m \u001b[0mnumber_of_lines_of_context\u001b[0m\u001b[0;34m\u001b[0m\u001b[0m\n\u001b[0m\u001b[1;32m   1321\u001b[0m             )\n\u001b[1;32m   1322\u001b[0m         \u001b[0;32melse\u001b[0m\u001b[0;34m:\u001b[0m\u001b[0;34m\u001b[0m\u001b[0m\n",
      "\u001b[0;32m/Users/anirudhmani/anaconda2/lib/python2.7/site-packages/IPython/core/ultratb.pyc\u001b[0m in \u001b[0;36mstructured_traceback\u001b[0;34m(self, etype, evalue, etb, tb_offset, number_of_lines_of_context)\u001b[0m\n\u001b[1;32m   1202\u001b[0m                 \u001b[0mstructured_traceback_parts\u001b[0m \u001b[0;34m+=\u001b[0m \u001b[0mformatted_exception\u001b[0m\u001b[0;34m\u001b[0m\u001b[0m\n\u001b[1;32m   1203\u001b[0m         \u001b[0;32melse\u001b[0m\u001b[0;34m:\u001b[0m\u001b[0;34m\u001b[0m\u001b[0m\n\u001b[0;32m-> 1204\u001b[0;31m             \u001b[0mstructured_traceback_parts\u001b[0m \u001b[0;34m+=\u001b[0m \u001b[0mformatted_exception\u001b[0m\u001b[0;34m[\u001b[0m\u001b[0;36m0\u001b[0m\u001b[0;34m]\u001b[0m\u001b[0;34m\u001b[0m\u001b[0m\n\u001b[0m\u001b[1;32m   1205\u001b[0m \u001b[0;34m\u001b[0m\u001b[0m\n\u001b[1;32m   1206\u001b[0m         \u001b[0;32mreturn\u001b[0m \u001b[0mstructured_traceback_parts\u001b[0m\u001b[0;34m\u001b[0m\u001b[0m\n",
      "\u001b[0;31mIndexError\u001b[0m: string index out of range"
     ]
    }
   ],
   "source": [
    "# get spotify artist_id for every artist, and related artists\n",
    "na = 0\n",
    "artist_rel = {}\n",
    "artists_sm = tracks_sm['artist.12'].unique()\n",
    "\n",
    "for i, elem in enumerate(artists_sm):\n",
    "    \n",
    "    artist = re.split(',', elem)[0]\n",
    "    if i%100 == 0:\n",
    "        print i\n",
    "    \n",
    "#     a_id = from_echo.get_artist(artist)\n",
    "    try:\n",
    "        a_id = get_artist(artist)\n",
    "\n",
    "        if a_id:\n",
    "    #         related_artists = from_echo.get_related(a_id['uri'])\n",
    "            related_artists = get_related(a_id['uri'])\n",
    "    #        print related_artists\n",
    "            if related_artists:\n",
    "                artist_rel[artist] = related_artists\n",
    "    #             artist_rel[artist] = a_id\n",
    "            else:\n",
    "                na += 1\n",
    "        else:\n",
    "            na += 1\n",
    "    except:\n",
    "        continue\n",
    "        \n",
    "\n"
   ]
  },
  {
   "cell_type": "code",
   "execution_count": 34,
   "metadata": {},
   "outputs": [],
   "source": [
    "# save_spot_rel_artists(\"artist_rel_medium_training\", artist_rel)\n",
    "artist_rel = load_spot_rel_artists(\"artist_rel_small_training.pickle\")\n"
   ]
  },
  {
   "cell_type": "code",
   "execution_count": 35,
   "metadata": {},
   "outputs": [
    {
     "data": {
      "text/plain": [
       "1026"
      ]
     },
     "execution_count": 35,
     "metadata": {},
     "output_type": "execute_result"
    }
   ],
   "source": [
    "len(artist_rel)"
   ]
  },
  {
   "cell_type": "code",
   "execution_count": 36,
   "metadata": {},
   "outputs": [],
   "source": [
    "# Subsetting Business, Creating Master tables\n",
    "\n",
    "# Creating Condensed Artist Map, and Master 2D Table\n",
    "artist_all = {}\n",
    "\n",
    "for key in artist_rel:\n",
    "    artist_all[key] = set()\n",
    "\n",
    "for key in artist_rel:\n",
    "    for elem in artist_rel[key]:\n",
    "        if artist_rel.get(elem, None) is not None:\n",
    "            artist_all[key].add(elem)\n",
    "            artist_all[elem].add(key)\n",
    "\n",
    "# assert len(artist_all) == len(artist_rel)  \n",
    "# deleting artists with no related artist in set\n",
    "keys = artist_all.keys()\n",
    "for key in keys:\n",
    "    if not artist_all[key]:\n",
    "        del artist_all[key]\n",
    "#         pass\n",
    "    else:\n",
    "        artist_all[key] = list(artist_all[key])\n",
    "        \n",
    "# Artist Index Map\n",
    "artist_index = {}\n",
    "for i, a in enumerate(artist_all.keys()):\n",
    "    artist_index[a] = i\n"
   ]
  },
  {
   "cell_type": "code",
   "execution_count": null,
   "metadata": {},
   "outputs": [],
   "source": []
  },
  {
   "cell_type": "code",
   "execution_count": 37,
   "metadata": {},
   "outputs": [],
   "source": [
    "artist_rel_master = np.zeros((len(artist_all.keys()), len(artist_all.keys())))\n",
    "\n",
    "# Master table of artist relation\n",
    "for i, a in enumerate(artist_all.keys()):\n",
    "    # going through each artist\n",
    "    for b in artist_all[a]:\n",
    "        artist_rel_master[artist_index[a]][artist_index[b]] = 1\n",
    "\n",
    "# print artist_rel_master[artist_index['Robo']][artist_index['Robo']]"
   ]
  },
  {
   "cell_type": "code",
   "execution_count": 38,
   "metadata": {},
   "outputs": [],
   "source": [
    "# Master table of artists per genre\n",
    "\n",
    "# songs per genre\n",
    "genres_all = {} # maybe redundant\n",
    "c = 0\n",
    "artists_set = list(tracks_sm['artist.12'])\n",
    "genres_artist = {}\n",
    "i = 0\n",
    "for gens in tracks_sm['track.9']:\n",
    "    l = [re.split(']', s) for s in re.split(', |\\[', gens)]\n",
    "    gens = [item for sublist in l for item in sublist]\n",
    "    for g in gens:\n",
    "        if g.isdigit():\n",
    "            if genres_all.get(int(g), -1) != -1:\n",
    "                pass\n",
    "            else:\n",
    "                genres_all[int(g)] = c\n",
    "                c += 1\n",
    "            if genres_artist.get(int(g), -1) == -1:\n",
    "                genres_artist[int(g)] = set()\n",
    "            if artist_all.get(artists_set[i], None) is not None:\n",
    "                genres_artist[int(g)].add(artists_set[i]) \n",
    "    i += 1\n",
    "\n"
   ]
  },
  {
   "cell_type": "code",
   "execution_count": 39,
   "metadata": {},
   "outputs": [],
   "source": [
    "# creating master table of artists per genre\n",
    "\n",
    "genre_artist_master = np.zeros((len(genres_all.keys()), len(artist_all.keys())))\n",
    "\n",
    "for g in genres_all.keys():\n",
    "#     print genres_artist[g]\n",
    "    for a in genres_artist[g]:\n",
    "#         print a\n",
    "        genre_artist_master[genres_all[g]][artist_index[a]] = 1\n",
    "        \n",
    "# print genre_artist_master"
   ]
  },
  {
   "cell_type": "code",
   "execution_count": 40,
   "metadata": {},
   "outputs": [],
   "source": [
    "# Number of songs per artist\n",
    "songs_per_artist = {}\n",
    "for k in artist_all.keys():\n",
    "    songs_per_artist[k] = len(tracks_sm[tracks_sm['artist.12'] == k])"
   ]
  },
  {
   "cell_type": "code",
   "execution_count": 41,
   "metadata": {},
   "outputs": [],
   "source": [
    "# Calculating D\n",
    "def calc_D(songs_per_artist, num_artists_set):\n",
    "\n",
    "    # total number of songs in Set\n",
    "    numer = 0\n",
    "    num_songs_set = 0\n",
    "    for k in songs_per_artist:\n",
    "        num_songs_set += songs_per_artist[k]\n",
    "        if songs_per_artist[k] > 0.0:\n",
    "            numer += np.log(1.0 - (1.0/(1 + songs_per_artist[k])))\n",
    "           \n",
    "    D = numer/num_songs_set\n",
    "    return D"
   ]
  },
  {
   "cell_type": "code",
   "execution_count": 42,
   "metadata": {},
   "outputs": [],
   "source": [
    "# Calculating C\n",
    "def calc_C(num_artists_set, genres_artist):\n",
    "\n",
    "    # total number of genres in Set\n",
    "    sum_gen = genres_artist.sum(axis=1)\n",
    "    num_gen_set = np.count_nonzero(sum_gen)\n",
    "    numer = 0.\n",
    "    for k in range(len(genres_artist)):\n",
    "        if sum_gen[k] > 0.0:\n",
    "            numer += np.log(1.0 - (1.0/(1 + sum_gen[k])))\n",
    "    \n",
    "    C = numer/len(sum_gen) \n",
    "\n",
    "    return C"
   ]
  },
  {
   "cell_type": "code",
   "execution_count": 43,
   "metadata": {},
   "outputs": [],
   "source": [
    "# Calculating S\n",
    "def calc_S(artists_in_set, songs_per_artist):\n",
    "\n",
    "    num_edges = np.count_nonzero(artists_in_set, axis=1)\n",
    "    numer = 0.0\n",
    "    for n_edges in num_edges:\n",
    "        if n_edges > 0.0:\n",
    "            numer += np.log(1.0 - (1./(1. + n_edges)))\n",
    "#         print numer\n",
    "    S = numer/len(num_edges)\n",
    "    \n",
    "    return S"
   ]
  },
  {
   "cell_type": "code",
   "execution_count": 52,
   "metadata": {},
   "outputs": [
    {
     "data": {
      "text/plain": [
       "(200, 194)"
      ]
     },
     "execution_count": 52,
     "metadata": {},
     "output_type": "execute_result"
    }
   ],
   "source": [
    "# Main Loop of Calculation\n",
    "import copy\n",
    "# N is number of Artists in Set\n",
    "\n",
    "\n",
    "N = 200    \n",
    "artists_in_set = np.random.choice(artist_all.keys(), N, replace=False)\n",
    "artists_not_in_set = artist_all.keys()\n",
    "for a in artists_in_set:\n",
    "    artists_not_in_set.remove(a)\n",
    "\n",
    "len(artists_in_set), len(artists_not_in_set)\n",
    "\n"
   ]
  },
  {
   "cell_type": "code",
   "execution_count": 53,
   "metadata": {},
   "outputs": [],
   "source": [
    "# songs per artist subset    \n",
    "s_p_a = {}\n",
    "for a in artists_in_set:\n",
    "    s_p_a[a] = songs_per_artist[a]\n",
    "\n",
    "# artists per genre subset\n",
    "num_genres, num_artists = genre_artist_master.shape\n",
    "g_a = np.zeros((num_genres, N))\n",
    "a_rel = np.zeros((N, N))\n",
    "index = 0\n",
    "\n",
    "ai = [artist_index[k] for k in artists_in_set]\n",
    "\n",
    "for i in range(num_genres):\n",
    "    g_a[i, :] = genre_artist_master[i, ai]\n",
    "\n",
    "for a in artists_in_set:\n",
    "    ind = artist_index[a]\n",
    "    a_rel[index, :] = artist_rel_master[ind, ai]\n",
    "    a_rel[:, index] = artist_rel_master[ai, ind]    \n",
    "    index +=1"
   ]
  },
  {
   "cell_type": "code",
   "execution_count": 54,
   "metadata": {},
   "outputs": [
    {
     "name": "stdout",
     "output_type": "stream",
     "text": [
      "-0.707849229822\n",
      "0 -0.299325020859 -0.135872363784 -0.0767427258229 -0.0867345674764\n",
      "1 -0.299325020859 -0.217448212036 -0.0767427258229 -0.381563706195\n"
     ]
    },
    {
     "name": "stderr",
     "output_type": "stream",
     "text": [
      "ERROR:root:Internal Python error in the inspect module.\n",
      "Below is the traceback from this internal error.\n",
      "\n"
     ]
    },
    {
     "name": "stdout",
     "output_type": "stream",
     "text": [
      "Traceback (most recent call last):\n",
      "  File \"/Users/anirudhmani/anaconda2/lib/python2.7/site-packages/IPython/core/ultratb.py\", line 1132, in get_records\n",
      "    return _fixed_getinnerframes(etb, number_of_lines_of_context, tb_offset)\n",
      "  File \"/Users/anirudhmani/anaconda2/lib/python2.7/site-packages/IPython/core/ultratb.py\", line 313, in wrapped\n",
      "    return f(*args, **kwargs)\n",
      "  File \"/Users/anirudhmani/anaconda2/lib/python2.7/site-packages/IPython/core/ultratb.py\", line 358, in _fixed_getinnerframes\n",
      "    records = fix_frame_records_filenames(inspect.getinnerframes(etb, context))\n",
      "  File \"/Users/anirudhmani/anaconda2/lib/python2.7/inspect.py\", line 1051, in getinnerframes\n",
      "    framelist.append((tb.tb_frame,) + getframeinfo(tb, context))\n",
      "  File \"/Users/anirudhmani/anaconda2/lib/python2.7/inspect.py\", line 1011, in getframeinfo\n",
      "    filename = getsourcefile(frame) or getfile(frame)\n",
      "  File \"/Users/anirudhmani/anaconda2/lib/python2.7/inspect.py\", line 453, in getsourcefile\n",
      "    if hasattr(getmodule(object, filename), '__loader__'):\n",
      "  File \"/Users/anirudhmani/anaconda2/lib/python2.7/inspect.py\", line 489, in getmodule\n",
      "    for modname, module in sys.modules.items():\n",
      "KeyboardInterrupt\n"
     ]
    },
    {
     "ename": "IndexError",
     "evalue": "string index out of range",
     "output_type": "error",
     "traceback": [
      "\u001b[0;31m---------------------------------------------------------------------------\u001b[0m",
      "\u001b[0;31mIndexError\u001b[0m                                Traceback (most recent call last)",
      "\u001b[0;32m/Users/anirudhmani/anaconda2/lib/python2.7/site-packages/IPython/core/interactiveshell.pyc\u001b[0m in \u001b[0;36mrun_code\u001b[0;34m(self, code_obj, result)\u001b[0m\n\u001b[1;32m   2897\u001b[0m             \u001b[0;32mif\u001b[0m \u001b[0mresult\u001b[0m \u001b[0;32mis\u001b[0m \u001b[0;32mnot\u001b[0m \u001b[0mNone\u001b[0m\u001b[0;34m:\u001b[0m\u001b[0;34m\u001b[0m\u001b[0m\n\u001b[1;32m   2898\u001b[0m                 \u001b[0mresult\u001b[0m\u001b[0;34m.\u001b[0m\u001b[0merror_in_exec\u001b[0m \u001b[0;34m=\u001b[0m \u001b[0msys\u001b[0m\u001b[0;34m.\u001b[0m\u001b[0mexc_info\u001b[0m\u001b[0;34m(\u001b[0m\u001b[0;34m)\u001b[0m\u001b[0;34m[\u001b[0m\u001b[0;36m1\u001b[0m\u001b[0;34m]\u001b[0m\u001b[0;34m\u001b[0m\u001b[0m\n\u001b[0;32m-> 2899\u001b[0;31m             \u001b[0mself\u001b[0m\u001b[0;34m.\u001b[0m\u001b[0mshowtraceback\u001b[0m\u001b[0;34m(\u001b[0m\u001b[0;34m)\u001b[0m\u001b[0;34m\u001b[0m\u001b[0m\n\u001b[0m\u001b[1;32m   2900\u001b[0m         \u001b[0;32melse\u001b[0m\u001b[0;34m:\u001b[0m\u001b[0;34m\u001b[0m\u001b[0m\n\u001b[1;32m   2901\u001b[0m             \u001b[0moutflag\u001b[0m \u001b[0;34m=\u001b[0m \u001b[0;36m0\u001b[0m\u001b[0;34m\u001b[0m\u001b[0m\n",
      "\u001b[0;32m/Users/anirudhmani/anaconda2/lib/python2.7/site-packages/IPython/core/interactiveshell.pyc\u001b[0m in \u001b[0;36mshowtraceback\u001b[0;34m(self, exc_tuple, filename, tb_offset, exception_only)\u001b[0m\n\u001b[1;32m   1824\u001b[0m                     \u001b[0;32mexcept\u001b[0m \u001b[0mException\u001b[0m\u001b[0;34m:\u001b[0m\u001b[0;34m\u001b[0m\u001b[0m\n\u001b[1;32m   1825\u001b[0m                         stb = self.InteractiveTB.structured_traceback(etype,\n\u001b[0;32m-> 1826\u001b[0;31m                                             value, tb, tb_offset=tb_offset)\n\u001b[0m\u001b[1;32m   1827\u001b[0m \u001b[0;34m\u001b[0m\u001b[0m\n\u001b[1;32m   1828\u001b[0m                     \u001b[0mself\u001b[0m\u001b[0;34m.\u001b[0m\u001b[0m_showtraceback\u001b[0m\u001b[0;34m(\u001b[0m\u001b[0metype\u001b[0m\u001b[0;34m,\u001b[0m \u001b[0mvalue\u001b[0m\u001b[0;34m,\u001b[0m \u001b[0mstb\u001b[0m\u001b[0;34m)\u001b[0m\u001b[0;34m\u001b[0m\u001b[0m\n",
      "\u001b[0;32m/Users/anirudhmani/anaconda2/lib/python2.7/site-packages/IPython/core/ultratb.pyc\u001b[0m in \u001b[0;36mstructured_traceback\u001b[0;34m(self, etype, value, tb, tb_offset, number_of_lines_of_context)\u001b[0m\n\u001b[1;32m   1410\u001b[0m         \u001b[0mself\u001b[0m\u001b[0;34m.\u001b[0m\u001b[0mtb\u001b[0m \u001b[0;34m=\u001b[0m \u001b[0mtb\u001b[0m\u001b[0;34m\u001b[0m\u001b[0m\n\u001b[1;32m   1411\u001b[0m         return FormattedTB.structured_traceback(\n\u001b[0;32m-> 1412\u001b[0;31m             self, etype, value, tb, tb_offset, number_of_lines_of_context)\n\u001b[0m\u001b[1;32m   1413\u001b[0m \u001b[0;34m\u001b[0m\u001b[0m\n\u001b[1;32m   1414\u001b[0m \u001b[0;34m\u001b[0m\u001b[0m\n",
      "\u001b[0;32m/Users/anirudhmani/anaconda2/lib/python2.7/site-packages/IPython/core/ultratb.pyc\u001b[0m in \u001b[0;36mstructured_traceback\u001b[0;34m(self, etype, value, tb, tb_offset, number_of_lines_of_context)\u001b[0m\n\u001b[1;32m   1318\u001b[0m             \u001b[0;31m# Verbose modes need a full traceback\u001b[0m\u001b[0;34m\u001b[0m\u001b[0;34m\u001b[0m\u001b[0m\n\u001b[1;32m   1319\u001b[0m             return VerboseTB.structured_traceback(\n\u001b[0;32m-> 1320\u001b[0;31m                 \u001b[0mself\u001b[0m\u001b[0;34m,\u001b[0m \u001b[0metype\u001b[0m\u001b[0;34m,\u001b[0m \u001b[0mvalue\u001b[0m\u001b[0;34m,\u001b[0m \u001b[0mtb\u001b[0m\u001b[0;34m,\u001b[0m \u001b[0mtb_offset\u001b[0m\u001b[0;34m,\u001b[0m \u001b[0mnumber_of_lines_of_context\u001b[0m\u001b[0;34m\u001b[0m\u001b[0m\n\u001b[0m\u001b[1;32m   1321\u001b[0m             )\n\u001b[1;32m   1322\u001b[0m         \u001b[0;32melse\u001b[0m\u001b[0;34m:\u001b[0m\u001b[0;34m\u001b[0m\u001b[0m\n",
      "\u001b[0;32m/Users/anirudhmani/anaconda2/lib/python2.7/site-packages/IPython/core/ultratb.pyc\u001b[0m in \u001b[0;36mstructured_traceback\u001b[0;34m(self, etype, evalue, etb, tb_offset, number_of_lines_of_context)\u001b[0m\n\u001b[1;32m   1202\u001b[0m                 \u001b[0mstructured_traceback_parts\u001b[0m \u001b[0;34m+=\u001b[0m \u001b[0mformatted_exception\u001b[0m\u001b[0;34m\u001b[0m\u001b[0m\n\u001b[1;32m   1203\u001b[0m         \u001b[0;32melse\u001b[0m\u001b[0;34m:\u001b[0m\u001b[0;34m\u001b[0m\u001b[0m\n\u001b[0;32m-> 1204\u001b[0;31m             \u001b[0mstructured_traceback_parts\u001b[0m \u001b[0;34m+=\u001b[0m \u001b[0mformatted_exception\u001b[0m\u001b[0;34m[\u001b[0m\u001b[0;36m0\u001b[0m\u001b[0;34m]\u001b[0m\u001b[0;34m\u001b[0m\u001b[0m\n\u001b[0m\u001b[1;32m   1205\u001b[0m \u001b[0;34m\u001b[0m\u001b[0m\n\u001b[1;32m   1206\u001b[0m         \u001b[0;32mreturn\u001b[0m \u001b[0mstructured_traceback_parts\u001b[0m\u001b[0;34m\u001b[0m\u001b[0m\n",
      "\u001b[0;31mIndexError\u001b[0m: string index out of range"
     ]
    }
   ],
   "source": [
    "best_artist = []\n",
    "\n",
    "C = calc_C(N, g_a)\n",
    "D = calc_D(s_p_a, N)\n",
    "S = calc_S(a_rel, s_p_a)\n",
    "goodness = C + D + S\n",
    "\n",
    "print goodness\n",
    "\n",
    "g_list = []\n",
    "best_set = []\n",
    "g_list_local = [goodness]\n",
    "C_list = [C]\n",
    "D_list = [D]\n",
    "S_list = [S]\n",
    "\n",
    "\n",
    "for epoch in range(5):\n",
    "    \n",
    "\n",
    "    # main loop for optimization\n",
    "    for i, a in enumerate(artists_in_set):\n",
    "        #remove an artist\n",
    "        s_p_a[a] = 0\n",
    "        g_a[:, i] = 0\n",
    "        a_rel[i, :] = 0\n",
    "        a_rel[:, i] = 0\n",
    "\n",
    "        change = 0\n",
    "        local_goodness = - float('inf')\n",
    "        local_S = local_D = local_C = 0.\n",
    "        # add artist from other set one at a time\n",
    "        for b in artists_not_in_set:\n",
    "\n",
    "            # add from other set\n",
    "            s_p_a[b] = songs_per_artist[b]\n",
    "            ai[i] = artist_index[b]\n",
    "            g_a[:, i] = genre_artist_master[:, artist_index[b]]\n",
    "            a_rel[i, :] = artist_rel_master[artist_index[b], ai]\n",
    "            a_rel[:, i] = artist_rel_master[ai, artist_index[b]]\n",
    "            \n",
    "            C = calc_C(N, g_a)\n",
    "            D = calc_D(s_p_a, N)\n",
    "            S = calc_S(a_rel, s_p_a)\n",
    "\n",
    "            G = C + D + S\n",
    "            if G > local_goodness:\n",
    "                local_goodness = G\n",
    "                local_C = C\n",
    "                local_D = D\n",
    "                local_S = S\n",
    "                change = b\n",
    "\n",
    "            # delete other element\n",
    "            s_p_a[b] = 0\n",
    "            g_a[:, i] = 0\n",
    "            a_rel[i, :] = 0\n",
    "            a_rel[:, i] = 0       \n",
    "\n",
    "#         print goodness\n",
    "        if local_goodness > goodness:\n",
    "            goodness = local_goodness\n",
    "            C = local_C\n",
    "            D = local_D\n",
    "            S = local_S\n",
    "            ai[i] = artist_index[change]\n",
    "            s_p_a[change] = songs_per_artist[change]\n",
    "            g_a[:, i] = genre_artist_master[:, artist_index[change]]\n",
    "            a_rel[i, :] = artist_rel_master[artist_index[change], ai]\n",
    "            a_rel[:, i] = artist_rel_master[ai, artist_index[change]]\n",
    "            artists_not_in_set.append(a)\n",
    "            artists_not_in_set.remove(change)\n",
    "        else:\n",
    "            ai[i] = artist_index[a]\n",
    "            s_p_a[a] = songs_per_artist[a]\n",
    "            g_a[:, i] = genre_artist_master[:, artist_index[a]]\n",
    "            a_rel[i, :] = artist_rel_master[artist_index[a], ai]\n",
    "            a_rel[:, i] = artist_rel_master[ai, artist_index[a]]\n",
    "        \n",
    "\n",
    "\n",
    "        g_list_local.append(goodness)\n",
    "        C_list.append(C)\n",
    "        D_list.append(D)\n",
    "        S_list.append(S)\n",
    "    \n",
    "    \n",
    "    g_list.append(np.mean(np.array(g_list_local), axis=0))\n",
    "    print epoch, g_list_local[-1], C_list[-1], D_list[-1], S_list[-1]"
   ]
  },
  {
   "cell_type": "code",
   "execution_count": 199,
   "metadata": {},
   "outputs": [
    {
     "data": {
      "text/plain": [
       "(127, 928)"
      ]
     },
     "execution_count": 199,
     "metadata": {},
     "output_type": "execute_result"
    }
   ],
   "source": [
    "genre_artist_master.shape"
   ]
  },
  {
   "cell_type": "code",
   "execution_count": 51,
   "metadata": {},
   "outputs": [
    {
     "data": {
      "text/plain": [
       "-0.71966374465951866"
      ]
     },
     "execution_count": 51,
     "metadata": {},
     "output_type": "execute_result"
    }
   ],
   "source": [
    "g_list_local[0]"
   ]
  },
  {
   "cell_type": "code",
   "execution_count": null,
   "metadata": {},
   "outputs": [],
   "source": []
  },
  {
   "cell_type": "code",
   "execution_count": null,
   "metadata": {},
   "outputs": [],
   "source": []
  },
  {
   "cell_type": "code",
   "execution_count": 48,
   "metadata": {},
   "outputs": [],
   "source": [
    "def save_goodness(name, table):\n",
    "    with open('%s.pickle'%name, 'wb') as writer:\n",
    "        pickle.dump(table, writer, protocol=pickle.HIGHEST_PROTOCOL)\n",
    "        \n",
    "save_goodness(\"C_200\", C_list)\n",
    "save_goodness(\"D_200\", D_list)\n",
    "save_goodness(\"S_200\", S_list)\n",
    "save_goodness(\"G_200\", g_list_local)"
   ]
  },
  {
   "cell_type": "code",
   "execution_count": null,
   "metadata": {},
   "outputs": [],
   "source": []
  }
 ],
 "metadata": {
  "kernelspec": {
   "display_name": "Python 2",
   "language": "python",
   "name": "python2"
  },
  "language_info": {
   "codemirror_mode": {
    "name": "ipython",
    "version": 2
   },
   "file_extension": ".py",
   "mimetype": "text/x-python",
   "name": "python",
   "nbconvert_exporter": "python",
   "pygments_lexer": "ipython2",
   "version": "2.7.14"
  }
 },
 "nbformat": 4,
 "nbformat_minor": 2
}
