{
 "cells": [
  {
   "cell_type": "markdown",
   "metadata": {},
   "source": [
    "## Statistical Significance"
   ]
  },
  {
   "cell_type": "code",
   "execution_count": 152,
   "metadata": {
    "collapsed": true
   },
   "outputs": [],
   "source": [
    "## Import\n",
    "%matplotlib inline\n",
    "from sklearn.cluster import KMeans\n",
    "from sklearn.decomposition import PCA as sklearnPCA\n",
    "from sklearn.discriminant_analysis import LinearDiscriminantAnalysis as LDA\n",
    "import collections, numpy\n",
    "from scipy import spatial\n",
    "import numpy as np\n",
    "import librosa\n",
    "import math\n",
    "import re\n",
    "import os, sys\n",
    "import pandas as pd\n",
    "import IPython.display as ipd\n",
    "import pickle\n",
    "import matplotlib.pyplot as plt\n",
    "import matplotlib.cm as cm\n",
    "from scipy.spatial.distance import cdist\n",
    "from sklearn.manifold import TSNE\n",
    "import copy"
   ]
  },
  {
   "cell_type": "code",
   "execution_count": 153,
   "metadata": {},
   "outputs": [],
   "source": [
    "# Load metadata and features.\n",
    "tracks = pd.read_csv('fma_metadata/tracks.csv')\n",
    "r_tracks = pd.read_csv('fma_metadata/raw_tracks.csv')\n",
    "genres = pd.read_csv('fma_metadata/genres.csv')\n",
    "features = pd.read_csv('fma_metadata/features.csv')\n",
    "echonest = pd.read_csv('fma_metadata/echonest.csv')\n",
    "r_artists = pd.read_csv('fma_metadata/raw_artists.csv')"
   ]
  },
  {
   "cell_type": "code",
   "execution_count": 154,
   "metadata": {
    "collapsed": true
   },
   "outputs": [],
   "source": [
    "# overall subset\n",
    "tracks_sm = tracks.loc[(tracks['set.1'] == 'small') & (tracks['set'] == 'training')]"
   ]
  },
  {
   "cell_type": "markdown",
   "metadata": {},
   "source": [
    "#### Eval Baseline Model"
   ]
  },
  {
   "cell_type": "code",
   "execution_count": 155,
   "metadata": {
    "collapsed": true
   },
   "outputs": [],
   "source": [
    "def get_features(opt):\n",
    "    \n",
    "    f1 = features['feature']\n",
    "    \n",
    "    if opt == 1:\n",
    "        f2 = features[['spectral_centroid','spectral_centroid.1', 'spectral_centroid.2', 'spectral_centroid.3', 'spectral_centroid.4', 'spectral_centroid.5', 'spectral_centroid.6']]\n",
    "        f3 = features.iloc[:, 512:]\n",
    "        f3 = features.iloc[:, 393:400]\n",
    "        fs = pd.concat([f1, f2], axis=1)\n",
    "        fs = pd.concat([fs, f3], axis=1)\n",
    "        \n",
    "    elif opt == 2:\n",
    "        f2 = features.iloc[:, 400:470] # spectral bunch\n",
    "        fs = pd.concat([f1, f2], axis=1)\n",
    "        \n",
    "    elif opt == 3:\n",
    "        f2 = features.iloc[:, 253:393] # mfcc\n",
    "        fs = pd.concat([f1, f2], axis=1)\n",
    "    \n",
    "    else:\n",
    "        return 0\n",
    "    \n",
    "    \n",
    "    fs = fs.loc[fs['feature'].isin(tracks_sm['Unnamed: 0'])]\n",
    "\n",
    "    # ipd.display(fs)\n",
    "\n",
    "    overall_fs = fs.values[:, 1:]\n",
    "    return overall_fs, fs"
   ]
  },
  {
   "cell_type": "code",
   "execution_count": 230,
   "metadata": {},
   "outputs": [
    {
     "data": {
      "text/plain": [
       "(5634, 140)"
      ]
     },
     "execution_count": 230,
     "metadata": {},
     "output_type": "execute_result"
    }
   ],
   "source": [
    "overall_fs, fs = get_features(3)\n",
    "overall_fs.shape"
   ]
  },
  {
   "cell_type": "code",
   "execution_count": 231,
   "metadata": {
    "collapsed": true
   },
   "outputs": [],
   "source": [
    "def get_bog_model(data, num_clusters):\n",
    "    # all features in all songs in all artists\n",
    "    # X = get_data\n",
    "#     A = 100\n",
    "#     F = 13\n",
    "#     all_features = numpy.random.rand(A, F)\n",
    "    model = KMeans(num_clusters)\n",
    "    model.fit(data)\n",
    "    return model"
   ]
  },
  {
   "cell_type": "code",
   "execution_count": 232,
   "metadata": {
    "collapsed": true
   },
   "outputs": [],
   "source": [
    "model = get_bog_model(overall_fs, 65) # going for 100 clusters"
   ]
  },
  {
   "cell_type": "code",
   "execution_count": 10,
   "metadata": {
    "collapsed": true
   },
   "outputs": [],
   "source": [
    "# load artists Full Set\n",
    "def load_spot_rel_artists(name):\n",
    "    with open(name, 'rb') as handle:\n",
    "        thing = pickle.load(handle)   \n",
    "    return thing"
   ]
  },
  {
   "cell_type": "code",
   "execution_count": 158,
   "metadata": {
    "collapsed": true
   },
   "outputs": [],
   "source": [
    "# dont run this here\n",
    "res = load_spot_rel_artists(\"saved_data/results_eval.pickle\")"
   ]
  },
  {
   "cell_type": "code",
   "execution_count": 233,
   "metadata": {
    "collapsed": true
   },
   "outputs": [],
   "source": [
    "artist_rel = load_spot_rel_artists(\"saved_data/artist_rel_small_training.pickle\")\n",
    "\n",
    "# Creating Condensed Artist Map, and Master 2D Table\n",
    "artist_fs = {} # artists in Full Set\n",
    "\n",
    "for key in artist_rel:\n",
    "    artist_fs[key] = set()\n",
    "\n",
    "for key in artist_rel:\n",
    "    for elem in artist_rel[key]:\n",
    "        if artist_rel.get(elem, None) is not None:\n",
    "            artist_fs[key].add(elem)\n",
    "            artist_fs[elem].add(key)\n",
    "\n",
    "# assert len(artist_all) == len(artist_rel)  \n",
    "# deleting artists with no related artist in set\n",
    "keys = artist_fs.keys()\n",
    "for key in keys:\n",
    "    if not artist_fs[key]:\n",
    "        del artist_fs[key]\n",
    "#         pass\n",
    "    else:\n",
    "        artist_fs[key] = list(artist_fs[key])\n",
    "        \n",
    "# Artist Index Map\n",
    "artist_index = {}\n",
    "for i, a in enumerate(artist_fs.keys()):\n",
    "    artist_index[a] = i\n"
   ]
  },
  {
   "cell_type": "code",
   "execution_count": 234,
   "metadata": {
    "collapsed": true
   },
   "outputs": [],
   "source": [
    "# Input is num_clips * feature_dimension\n",
    "# Output is 1 * num_clusters \n",
    "def get_histogram_song(song_features, model, num_clusters):\n",
    "    clusters = model.predict(song_features)\n",
    "    Y = numpy.bincount(clusters, minlength=num_clusters)\n",
    "    return Y"
   ]
  },
  {
   "cell_type": "code",
   "execution_count": 235,
   "metadata": {
    "collapsed": true
   },
   "outputs": [],
   "source": [
    "# Input is num_songs * num_clusters \n",
    "# Output is 1 * num_clusters \n",
    "def get_artist_feature(all_songs_y):\n",
    "    artist_feature = numpy.sum(all_songs_y, axis=0)\n",
    "    return artist_feature/numpy.linalg.norm(artist_feature)"
   ]
  },
  {
   "cell_type": "code",
   "execution_count": 236,
   "metadata": {
    "collapsed": true
   },
   "outputs": [],
   "source": [
    "# Output is num_artists * num_clusters \n",
    "def construct_artist_similarity_matrix(model, num_clusters, num_artists, artist_index):\n",
    "    \n",
    "    global fs\n",
    "    \n",
    "    artist_similarity_matrix = numpy.zeros((num_artists, num_clusters))\n",
    "\n",
    "    # for artist_index, artist in enumerate(data):\n",
    "    for artist in (artist_index):\n",
    "        a_i = artist_index[artist]\n",
    "        artist_feature = []\n",
    "        # for song in artist:\n",
    "        \n",
    "        artist_fs = fs.loc[fs['feature'].isin(tracks_sm.loc[tracks_sm['artist.12'] == artist]['Unnamed: 0'])]\n",
    "        artist_fs = artist_fs.values[:, 1:]\n",
    "        \n",
    "        for song in artist_fs:\n",
    "            \n",
    "            song = song.reshape(1, len(song))\n",
    "            \n",
    "#             song_feature = []\n",
    "#             # for clip in song:\n",
    "#             for clip in range(10):\n",
    "#                 # is of 1 X F dimensions\n",
    "#                 # features = get_feature(clip)\n",
    "#                 features = numpy.random.rand(1,13)\n",
    "#                 song_feature.append(features)\n",
    "\n",
    "#             song_features = numpy.vstack(song_feature)\n",
    "\n",
    "            artist_feature.append(get_histogram_song(song, model, num_clusters))\n",
    "    \n",
    "        if artist_feature:\n",
    "            artist_feature = numpy.vstack(artist_feature)\n",
    "            artist_similarity_matrix[a_i, :] = get_artist_feature(artist_feature)\n",
    "    \n",
    "    return artist_similarity_matrix\n"
   ]
  },
  {
   "cell_type": "code",
   "execution_count": 237,
   "metadata": {},
   "outputs": [],
   "source": [
    "artist_clusters_matrix = construct_artist_similarity_matrix(model, 65, len(artist_index), artist_index)"
   ]
  },
  {
   "cell_type": "code",
   "execution_count": 238,
   "metadata": {
    "collapsed": true
   },
   "outputs": [],
   "source": [
    "def get_similarity(i, j, artist_similarity_matrix):\n",
    "#     v = 1.0 - spatial.distance.cosine(artist_similarity_matrix[i, :], artist_similarity_matrix[j, :])\n",
    "#     v = spatial.distance.cosine(artist_similarity_matrix[i, :], artist_similarity_matrix[j, :]) # simple cosine distance\n",
    "    v = spatial.distance.euclidean(artist_similarity_matrix[i, :], artist_similarity_matrix[j, :]) \n",
    "#     v = np.linalg.norm(artist_similarity_matrix[i, :] - artist_similarity_matrix[j, :])\n",
    "    return v"
   ]
  },
  {
   "cell_type": "code",
   "execution_count": 239,
   "metadata": {
    "collapsed": true
   },
   "outputs": [],
   "source": [
    "def scale(mat):\n",
    "    new = np.zeros(mat.shape)\n",
    "    for i in range(len(mat)):\n",
    "        m = np.amax(mat[i, :])\n",
    "        if m>0:\n",
    "            new[i, :] = 1 - mat[i, :]/m\n",
    "    return new   "
   ]
  },
  {
   "cell_type": "code",
   "execution_count": 240,
   "metadata": {
    "collapsed": true
   },
   "outputs": [],
   "source": [
    "artist_sim_matrix = np.zeros((len(artist_index), len(artist_index)))\n",
    "\n",
    "\n",
    "for a_i_1 in artist_index:\n",
    "    for a_i_2 in artist_index:\n",
    "#         if a_i_1 == a_i_2:\n",
    "#             continue\n",
    "#         print a_i_1, a_i_2\n",
    "#         print artist_index[a_i_1], artist_index[a_i_2]\n",
    "        sim = get_similarity(artist_index[a_i_1], artist_index[a_i_2], artist_clusters_matrix)\n",
    "        artist_sim_matrix[artist_index[a_i_1], artist_index[a_i_2]] = sim\n",
    "        artist_sim_matrix[artist_index[a_i_2], artist_index[a_i_1]] = sim\n"
   ]
  },
  {
   "cell_type": "code",
   "execution_count": 241,
   "metadata": {
    "collapsed": true
   },
   "outputs": [],
   "source": [
    "# scaling and getting actual similarity rather than distance\n",
    "artist_sim_matrix = scale(artist_sim_matrix)"
   ]
  },
  {
   "cell_type": "code",
   "execution_count": 242,
   "metadata": {
    "collapsed": true
   },
   "outputs": [],
   "source": [
    "# get the ground truth\n",
    "ground = np.load('saved_data/ground.npy')"
   ]
  },
  {
   "cell_type": "code",
   "execution_count": 243,
   "metadata": {
    "collapsed": true
   },
   "outputs": [],
   "source": [
    "# Thresholding\n",
    "# model_out = artist_sim_matrix > 0.5\n",
    "ground = ground > 0.5"
   ]
  },
  {
   "cell_type": "code",
   "execution_count": 244,
   "metadata": {
    "collapsed": true
   },
   "outputs": [],
   "source": [
    "for i in range(ground.shape[0]):\n",
    "    ground[i, i] = 1.0"
   ]
  },
  {
   "cell_type": "code",
   "execution_count": 245,
   "metadata": {
    "collapsed": true
   },
   "outputs": [],
   "source": [
    "def norm_model_out(artist_sim_matrix):\n",
    "\n",
    "    sim_means = np.mean(artist_sim_matrix, axis=1)\n",
    "\n",
    "    model_out = np.zeros(artist_sim_matrix.shape)\n",
    "\n",
    "    for i in range(len(artist_sim_matrix)):\n",
    "\n",
    "    #     row_idx = np.argsort(artist_sim_matrix[i, :])[-k]\n",
    "    #     thresh = artist_sim_matrix[i, row_idx]\n",
    "    #     model_out[i, :] = artist_sim_matrix[i, :] > thresh\n",
    "\n",
    "        # Top K Method\n",
    "        k = np.sum(ground[i, :] == 1)\n",
    "        row_idx = artist_sim_matrix[i, :].argsort()[::-1][:k]\n",
    "        model_out[i, row_idx] = 1.0\n",
    "        \n",
    "    return model_out"
   ]
  },
  {
   "cell_type": "code",
   "execution_count": 210,
   "metadata": {
    "collapsed": true
   },
   "outputs": [],
   "source": [
    "for i in range(model_out.shape[0]):\n",
    "    model_out[i, i] = 1.0"
   ]
  },
  {
   "cell_type": "code",
   "execution_count": 173,
   "metadata": {},
   "outputs": [],
   "source": [
    "def calc_metrics(artist_sim_matrix, ground):\n",
    "\n",
    "    # corelation\n",
    "    model_out = artist_sim_matrix\n",
    "    g_flatten = ground.flatten()\n",
    "    m_flatten = model_out.flatten()\n",
    "    corr = np.corrcoef(g_flatten, m_flatten)\n",
    "\n",
    "    # normalise artist_sim_matrix to model_out\n",
    "    model_out = norm_model_out(artist_sim_matrix)\n",
    "    \n",
    "    # Measure Performance\n",
    "    ntp = numpy.sum((model_out == 1) & (ground == 1))\n",
    "    nfn = numpy.sum((model_out == 0) & (ground == 1))\n",
    "    ntn = numpy.sum((model_out == 0) & (ground == 0))\n",
    "    nfp = numpy.sum((model_out == 1) & (ground == 0))\n",
    "\n",
    "    tpr = ntp*1.0/(ntp+nfn)\n",
    "    tnr = ntn*1.0/(ntn+nfp)\n",
    "    \n",
    "    # Accuaracy \n",
    "    acc = (ntp+ntn)*1.0/(ntp+nfn+ntn+nfp)\n",
    "    \n",
    "    # F1 Score\n",
    "    p = ntp*1.0/(ntp+nfp)\n",
    "    r = ntp*1.0/(ntp+nfn)\n",
    "    f1 = 2 * (p * r)/(p + r)\n",
    "    \n",
    "    # Precision\n",
    "    precision = ntp*1.0/(ntp+nfp)\n",
    "    \n",
    "\n",
    "# float(tp)/tpg\n",
    "    return ntp, nfn, ntn, nfp, tpr, tnr, acc, f1, precision, corr  "
   ]
  },
  {
   "cell_type": "code",
   "execution_count": 80,
   "metadata": {},
   "outputs": [],
   "source": [
    "ntp, nfn, ntn, nfp, tpr, tnr, acc, f1, precision, corr = calc_metrics(artist_sim_matrix, ground)"
   ]
  },
  {
   "cell_type": "code",
   "execution_count": 193,
   "metadata": {},
   "outputs": [
    {
     "data": {
      "text/plain": [
       "1405"
      ]
     },
     "execution_count": 193,
     "metadata": {},
     "output_type": "execute_result"
    }
   ],
   "source": [
    "len(model_out[model_out>0.5])"
   ]
  },
  {
   "cell_type": "code",
   "execution_count": 229,
   "metadata": {},
   "outputs": [
    {
     "data": {
      "text/plain": [
       "array([ 1.,  1.,  1., ...,  1.,  1.,  1.])"
      ]
     },
     "execution_count": 229,
     "metadata": {},
     "output_type": "execute_result"
    }
   ],
   "source": [
    "model_out[model_out>0]"
   ]
  },
  {
   "cell_type": "code",
   "execution_count": 66,
   "metadata": {},
   "outputs": [
    {
     "data": {
      "text/plain": [
       "array([[ 1.        ,  0.12331455],\n",
       "       [ 0.12331455,  1.        ]])"
      ]
     },
     "execution_count": 66,
     "metadata": {},
     "output_type": "execute_result"
    }
   ],
   "source": []
  },
  {
   "cell_type": "markdown",
   "metadata": {},
   "source": [
    "#### Statistical Tests"
   ]
  },
  {
   "cell_type": "code",
   "execution_count": 194,
   "metadata": {
    "collapsed": true
   },
   "outputs": [],
   "source": [
    "asm2 = np.copy(artist_sim_matrix) # Spectral stuff"
   ]
  },
  {
   "cell_type": "code",
   "execution_count": 211,
   "metadata": {
    "collapsed": true
   },
   "outputs": [],
   "source": [
    "asm3 = np.copy(artist_sim_matrix) # MFCC"
   ]
  },
  {
   "cell_type": "code",
   "execution_count": 176,
   "metadata": {
    "collapsed": true
   },
   "outputs": [],
   "source": [
    "asm1 = np.copy(artist_sim_matrix) # Rest"
   ]
  },
  {
   "cell_type": "code",
   "execution_count": 213,
   "metadata": {},
   "outputs": [
    {
     "name": "stdout",
     "output_type": "stream",
     "text": [
      "(394, 394)\n",
      "<type 'numpy.ndarray'>\n"
     ]
    }
   ],
   "source": [
    "print ground.shape\n",
    "print type(artist_sim_matrix)"
   ]
  },
  {
   "cell_type": "code",
   "execution_count": 214,
   "metadata": {},
   "outputs": [],
   "source": [
    "orig_ground = np.copy(ground)"
   ]
  },
  {
   "cell_type": "code",
   "execution_count": 215,
   "metadata": {},
   "outputs": [
    {
     "name": "stdout",
     "output_type": "stream",
     "text": [
      "[[ True False False ..., False False False]\n",
      " [False  True False ..., False False False]\n",
      " [False False  True ..., False False False]\n",
      " ..., \n",
      " [False False False ...,  True False False]\n",
      " [False False False ..., False  True False]\n",
      " [False False False ..., False False  True]]\n"
     ]
    }
   ],
   "source": [
    "print orig_ground"
   ]
  },
  {
   "cell_type": "code",
   "execution_count": 122,
   "metadata": {
    "collapsed": true
   },
   "outputs": [],
   "source": [
    "# randomizing ground\n",
    "numpy.random.shuffle(ground)"
   ]
  },
  {
   "cell_type": "code",
   "execution_count": 216,
   "metadata": {},
   "outputs": [],
   "source": [
    "assert numpy.array_equal(ground, orig_ground)"
   ]
  },
  {
   "cell_type": "code",
   "execution_count": 224,
   "metadata": {
    "collapsed": true
   },
   "outputs": [],
   "source": [
    "m1_results = []\n",
    "m2_results = []\n",
    "m3_results = []\n",
    "\n",
    "for i in range(100):\n",
    "\n",
    "#     numpy.random.shuffle(ground)\n",
    "    \n",
    "    ntp, nfn, ntn, nfp, tpr, tnr, acc, f1, precision, corr = calc_metrics(asm1, ground)\n",
    "    m1_results.append([ntp, nfn, ntn, nfp, tpr, tnr, acc, f1, precision, corr])\n",
    "\n",
    "    ntp, nfn, ntn, nfp, tpr, tnr, acc, f1, precision, corr = calc_metrics(asm2, ground)\n",
    "    m2_results.append([ntp, nfn, ntn, nfp, tpr, tnr, acc, f1, precision, corr])\n",
    "\n",
    "    ntp, nfn, ntn, nfp, tpr, tnr, acc, f1, precision, corr = calc_metrics(asm3, ground)\n",
    "    m3_results.append([ntp, nfn, ntn, nfp, tpr, tnr, acc, f1, precision, corr])"
   ]
  },
  {
   "cell_type": "code",
   "execution_count": 227,
   "metadata": {},
   "outputs": [
    {
     "data": {
      "text/plain": [
       "[0.12471942791889055,\n",
       " 0.12471942791889055,\n",
       " 0.12471942791889055,\n",
       " 0.12471942791889055,\n",
       " 0.12471942791889055,\n",
       " 0.12471942791889055,\n",
       " 0.12471942791889055,\n",
       " 0.12471942791889055,\n",
       " 0.12471942791889055,\n",
       " 0.12471942791889055,\n",
       " 0.12471942791889055,\n",
       " 0.12471942791889055,\n",
       " 0.12471942791889055,\n",
       " 0.12471942791889055,\n",
       " 0.12471942791889055,\n",
       " 0.12471942791889055,\n",
       " 0.12471942791889055,\n",
       " 0.12471942791889055,\n",
       " 0.12471942791889055,\n",
       " 0.12471942791889055,\n",
       " 0.12471942791889055,\n",
       " 0.12471942791889055,\n",
       " 0.12471942791889055,\n",
       " 0.12471942791889055,\n",
       " 0.12471942791889055,\n",
       " 0.12471942791889055,\n",
       " 0.12471942791889055,\n",
       " 0.12471942791889055,\n",
       " 0.12471942791889055,\n",
       " 0.12471942791889055,\n",
       " 0.12471942791889055,\n",
       " 0.12471942791889055,\n",
       " 0.12471942791889055,\n",
       " 0.12471942791889055,\n",
       " 0.12471942791889055,\n",
       " 0.12471942791889055,\n",
       " 0.12471942791889055,\n",
       " 0.12471942791889055,\n",
       " 0.12471942791889055,\n",
       " 0.12471942791889055,\n",
       " 0.12471942791889055,\n",
       " 0.12471942791889055,\n",
       " 0.12471942791889055,\n",
       " 0.12471942791889055,\n",
       " 0.12471942791889055,\n",
       " 0.12471942791889055,\n",
       " 0.12471942791889055,\n",
       " 0.12471942791889055,\n",
       " 0.12471942791889055,\n",
       " 0.12471942791889055,\n",
       " 0.12471942791889055,\n",
       " 0.12471942791889055,\n",
       " 0.12471942791889055,\n",
       " 0.12471942791889055,\n",
       " 0.12471942791889055,\n",
       " 0.12471942791889055,\n",
       " 0.12471942791889055,\n",
       " 0.12471942791889055,\n",
       " 0.12471942791889055,\n",
       " 0.12471942791889055,\n",
       " 0.12471942791889055,\n",
       " 0.12471942791889055,\n",
       " 0.12471942791889055,\n",
       " 0.12471942791889055,\n",
       " 0.12471942791889055,\n",
       " 0.12471942791889055,\n",
       " 0.12471942791889055,\n",
       " 0.12471942791889055,\n",
       " 0.12471942791889055,\n",
       " 0.12471942791889055,\n",
       " 0.12471942791889055,\n",
       " 0.12471942791889055,\n",
       " 0.12471942791889055,\n",
       " 0.12471942791889055,\n",
       " 0.12471942791889055,\n",
       " 0.12471942791889055,\n",
       " 0.12471942791889055,\n",
       " 0.12471942791889055,\n",
       " 0.12471942791889055,\n",
       " 0.12471942791889055,\n",
       " 0.12471942791889055,\n",
       " 0.12471942791889055,\n",
       " 0.12471942791889055,\n",
       " 0.12471942791889055,\n",
       " 0.12471942791889055,\n",
       " 0.12471942791889055,\n",
       " 0.12471942791889055,\n",
       " 0.12471942791889055,\n",
       " 0.12471942791889055,\n",
       " 0.12471942791889055,\n",
       " 0.12471942791889055,\n",
       " 0.12471942791889055,\n",
       " 0.12471942791889055,\n",
       " 0.12471942791889055,\n",
       " 0.12471942791889055,\n",
       " 0.12471942791889055,\n",
       " 0.12471942791889055,\n",
       " 0.12471942791889055,\n",
       " 0.12471942791889055,\n",
       " 0.12471942791889055]"
      ]
     },
     "execution_count": 227,
     "metadata": {},
     "output_type": "execute_result"
    }
   ],
   "source": [
    "[elem[9][0][1] for elem in m3_results]"
   ]
  },
  {
   "cell_type": "code",
   "execution_count": null,
   "metadata": {
    "collapsed": true
   },
   "outputs": [],
   "source": []
  }
 ],
 "metadata": {
  "kernelspec": {
   "display_name": "oh_yeah_con",
   "language": "python",
   "name": "oh_yeah_con"
  },
  "language_info": {
   "codemirror_mode": {
    "name": "ipython",
    "version": 2
   },
   "file_extension": ".py",
   "mimetype": "text/x-python",
   "name": "python",
   "nbconvert_exporter": "python",
   "pygments_lexer": "ipython2",
   "version": "2.7.14"
  }
 },
 "nbformat": 4,
 "nbformat_minor": 2
}
