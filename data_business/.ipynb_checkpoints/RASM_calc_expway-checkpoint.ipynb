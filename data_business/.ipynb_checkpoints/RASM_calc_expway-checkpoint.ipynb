{
 "cells": [
  {
   "cell_type": "code",
   "execution_count": 39,
   "metadata": {},
   "outputs": [],
   "source": [
    "import os\n",
    "\n",
    "# import IPython.display as ipd\n",
    "import numpy as np\n",
    "import pandas as pd\n",
    "import matplotlib.pyplot as plt\n",
    "import seaborn as sns\n",
    "import sklearn as skl\n",
    "import sklearn.utils, sklearn.preprocessing, sklearn.decomposition, sklearn.svm\n",
    "import librosa\n",
    "import librosa.display\n",
    "# import get_related_artists as from_echo\n",
    "import re\n",
    "import pickle\n",
    "from IPython.display import display, HTML\n",
    "import python_utils as utils\n"
   ]
  },
  {
   "cell_type": "code",
   "execution_count": 40,
   "metadata": {},
   "outputs": [
    {
     "data": {
      "text/plain": [
       "((106576, 53), (163, 5), (106577, 519), (13132, 250))"
      ]
     },
     "execution_count": 40,
     "metadata": {},
     "output_type": "execute_result"
    }
   ],
   "source": [
    "# Load metadata and features.\n",
    "tracks = pd.read_csv('fma_metadata/tracks.csv')\n",
    "r_tracks = pd.read_csv('fma_metadata/raw_tracks.csv')\n",
    "genres = pd.read_csv('fma_metadata/genres.csv')\n",
    "features = pd.read_csv('fma_metadata/features.csv')\n",
    "echonest = pd.read_csv('fma_metadata/echonest.csv')\n",
    "r_artists = pd.read_csv('fma_metadata/raw_artists.csv')\n",
    "\n",
    "tracks.shape, genres.shape, features.shape, echonest.shape"
   ]
  },
  {
   "cell_type": "code",
   "execution_count": 41,
   "metadata": {},
   "outputs": [],
   "source": [
    "tracks_sm = tracks.loc[(tracks['set.1'] == 'medium') & (tracks['set'] == 'training')]"
   ]
  },
  {
   "cell_type": "code",
   "execution_count": 46,
   "metadata": {},
   "outputs": [],
   "source": [
    "# Spotify  Business\n",
    "\n",
    "import sys\n",
    "import spotipy\n",
    "import pprint\n",
    "''' shows recommendations for the given artist\n",
    "'''\n",
    "\n",
    "\n",
    "from spotipy.oauth2 import SpotifyClientCredentials\n",
    "client_credentials_manager = SpotifyClientCredentials(client_id='ba6790bdcd434f06b7b577e344c6e0ae', client_secret='145715e565ff48469c306484896a34f5')\n",
    "sp = spotipy.Spotify(client_credentials_manager=client_credentials_manager)\n",
    "sp.trace=False\n",
    "\n",
    "def get_artist(name):\n",
    "    results = sp.search(q='artist:' + name, type='artist')\n",
    "    items = results['artists']['items']\n",
    "    if len(items) > 0:\n",
    "        return items[0]\n",
    "    else:\n",
    "        return None\n",
    "\n",
    "\n",
    "def get_related(uri):\n",
    "    \n",
    "    related = sp.artist_related_artists(uri)\n",
    "    ans = [] \n",
    "    \n",
    "    for artist in related['artists']:\n",
    "        ans.append(artist['name'])\n",
    "#        print artist['name']\n",
    "        \n",
    "    \n",
    "    return ans\n",
    "    \n",
    "def save_spot_rel_artists(name, table):\n",
    "    with open('saved_data/%s.pickle'%name, 'wb') as writer:\n",
    "        pickle.dump(table, writer, protocol=pickle.HIGHEST_PROTOCOL)\n",
    "        \n",
    "def load_spot_rel_artists(name):\n",
    "    with open(name, 'rb') as handle:\n",
    "        thing = pickle.load(handle)   \n",
    "    return thing"
   ]
  },
  {
   "cell_type": "code",
   "execution_count": null,
   "metadata": {},
   "outputs": [],
   "source": []
  },
  {
   "cell_type": "code",
   "execution_count": 47,
   "metadata": {},
   "outputs": [
    {
     "name": "stdout",
     "output_type": "stream",
     "text": [
      "0\n",
      "100\n",
      "200\n",
      "300\n",
      "400\n",
      "500\n",
      "600\n",
      "700\n",
      "800\n",
      "900\n",
      "1000\n",
      "1100\n",
      "1200\n",
      "1300\n",
      "1400\n",
      "retrying ...1secs\n",
      "1500\n",
      "1600\n",
      "retrying ...1secs\n",
      "1700\n",
      "1800\n",
      "1900\n",
      "2000\n",
      "2100\n",
      "retrying ...1secs\n",
      "retrying ...1secs\n",
      "2200\n",
      "2300\n",
      "2400\n",
      "2500\n",
      "2600\n",
      "2700\n",
      "2800\n",
      "2900\n",
      "3000\n",
      "3100\n",
      "3200\n",
      "3300\n",
      "3400\n",
      "3500\n"
     ]
    }
   ],
   "source": [
    "# get spotify artist_id for every artist, and related artists\n",
    "na = 0\n",
    "artist_rel = {}\n",
    "artists_sm = tracks_sm['artist.12'].unique()\n",
    "\n",
    "for i, elem in enumerate(artists_sm):\n",
    "    \n",
    "    artist = re.split(',', elem)[0]\n",
    "    if i%100 == 0:\n",
    "        print i\n",
    "    \n",
    "#     a_id = from_echo.get_artist(artist)\n",
    "    try:\n",
    "        a_id = get_artist(artist)\n",
    "\n",
    "        if a_id:\n",
    "    #         related_artists = from_echo.get_related(a_id['uri'])\n",
    "            related_artists = get_related(a_id['uri'])\n",
    "    #        print related_artists\n",
    "            if related_artists:\n",
    "                artist_rel[artist] = related_artists\n",
    "    #             artist_rel[artist] = a_id\n",
    "            else:\n",
    "                na += 1\n",
    "        else:\n",
    "            na += 1\n",
    "    except:\n",
    "        continue\n",
    "        \n",
    "\n"
   ]
  },
  {
   "cell_type": "code",
   "execution_count": null,
   "metadata": {},
   "outputs": [],
   "source": []
  },
  {
   "cell_type": "code",
   "execution_count": 48,
   "metadata": {},
   "outputs": [],
   "source": [
    "# save_spot_rel_artists(\"artist_rel_medium_training\", artist_rel)\n",
    "save_spot_rel_artists(\"artist_rel_medium_training\", artist_rel) "
   ]
  },
  {
   "cell_type": "code",
   "execution_count": 44,
   "metadata": {},
   "outputs": [],
   "source": [
    "# load artists\n",
    "artist_rel = load_spot_rel_artists(\"artist_rel_small_training.pickle\")"
   ]
  },
  {
   "cell_type": "code",
   "execution_count": 49,
   "metadata": {},
   "outputs": [
    {
     "data": {
      "text/plain": [
       "1919"
      ]
     },
     "execution_count": 49,
     "metadata": {},
     "output_type": "execute_result"
    }
   ],
   "source": [
    "len(artist_rel)"
   ]
  },
  {
   "cell_type": "code",
   "execution_count": 50,
   "metadata": {},
   "outputs": [],
   "source": [
    "# Subsetting Business, Creating Master tables\n",
    "\n",
    "# Creating Condensed Artist Map, and Master 2D Table\n",
    "artist_all = {}\n",
    "\n",
    "for key in artist_rel:\n",
    "    artist_all[key] = set()\n",
    "\n",
    "for key in artist_rel:\n",
    "    for elem in artist_rel[key]:\n",
    "        if artist_rel.get(elem, None) is not None:\n",
    "            artist_all[key].add(elem)\n",
    "            artist_all[elem].add(key)\n",
    "\n",
    "# assert len(artist_all) == len(artist_rel)  \n",
    "# deleting artists with no related artist in set\n",
    "keys = artist_all.keys()\n",
    "for key in keys:\n",
    "    if not artist_all[key]:\n",
    "        del artist_all[key]\n",
    "#         pass\n",
    "    else:\n",
    "        artist_all[key] = list(artist_all[key])\n",
    "        \n",
    "# Artist Index Map\n",
    "artist_index = {}\n",
    "for i, a in enumerate(artist_all.keys()):\n",
    "    artist_index[a] = i\n"
   ]
  },
  {
   "cell_type": "code",
   "execution_count": 51,
   "metadata": {},
   "outputs": [],
   "source": [
    "artist_rel_master = np.zeros((len(artist_all.keys()), len(artist_all.keys())))\n",
    "\n",
    "# Master table of artist relation\n",
    "for i, a in enumerate(artist_all.keys()):\n",
    "    # going through each artist\n",
    "    for b in artist_all[a]:\n",
    "        artist_rel_master[artist_index[a]][artist_index[b]] = 1\n",
    "\n",
    "# print artist_rel_master[artist_index['Robo']][artist_index['Robo']]"
   ]
  },
  {
   "cell_type": "code",
   "execution_count": 52,
   "metadata": {},
   "outputs": [],
   "source": [
    "# Master table of artists per genre\n",
    "\n",
    "# songs per genre\n",
    "genres_all = {} # maybe redundant\n",
    "c = 0\n",
    "artists_set = list(tracks_sm['artist.12'])\n",
    "genres_artist = {}\n",
    "i = 0\n",
    "for gens in tracks_sm['track.9']:\n",
    "    l = [re.split(']', s) for s in re.split(', |\\[', gens)]\n",
    "    gens = [item for sublist in l for item in sublist]\n",
    "    for g in gens:\n",
    "        if g.isdigit():\n",
    "            if genres_all.get(int(g), -1) != -1:\n",
    "                pass\n",
    "            else:\n",
    "                genres_all[int(g)] = c\n",
    "                c += 1\n",
    "            if genres_artist.get(int(g), -1) == -1:\n",
    "                genres_artist[int(g)] = set()\n",
    "            if artist_all.get(artists_set[i], None) is not None:\n",
    "                genres_artist[int(g)].add(artists_set[i]) \n",
    "    i += 1\n",
    "\n"
   ]
  },
  {
   "cell_type": "code",
   "execution_count": 53,
   "metadata": {},
   "outputs": [],
   "source": [
    "# creating master table of artists per genre\n",
    "\n",
    "genre_artist_master = np.zeros((len(genres_all.keys()), len(artist_all.keys())))\n",
    "\n",
    "for g in genres_all.keys():\n",
    "#     print genres_artist[g]\n",
    "    for a in genres_artist[g]:\n",
    "#         print a\n",
    "        genre_artist_master[genres_all[g]][artist_index[a]] = 1\n",
    "        \n",
    "# print genre_artist_master"
   ]
  },
  {
   "cell_type": "code",
   "execution_count": 54,
   "metadata": {},
   "outputs": [],
   "source": [
    "# Number of songs per artist\n",
    "songs_per_artist = {}\n",
    "for k in artist_all.keys():\n",
    "    songs_per_artist[k] = len(tracks_sm[tracks_sm['artist.12'] == k])"
   ]
  },
  {
   "cell_type": "code",
   "execution_count": 55,
   "metadata": {},
   "outputs": [],
   "source": [
    "# Calculating D\n",
    "\n",
    "def calc_D(songs_per_artist, num_artists_set):\n",
    "    # total number of songs in Set\n",
    "    num_songs_set = 0\n",
    "    data = []\n",
    "    for k in songs_per_artist:\n",
    "        num_songs_set += songs_per_artist[k]\n",
    "        if songs_per_artist[k] != 0:\n",
    "            data.append(songs_per_artist[k])\n",
    "\n",
    "    data = np.array(data)\n",
    "    mn = np.mean(data, axis=0)\n",
    "    sd = np.std(data, axis=0)\n",
    "    \n",
    "    D = 1 - (sd/(mn * (np.sqrt(num_artists_set) - 1)))\n",
    "\n",
    "    return D\n"
   ]
  },
  {
   "cell_type": "code",
   "execution_count": 56,
   "metadata": {},
   "outputs": [],
   "source": [
    "# Calculating C\n",
    "\n",
    "def calc_C(num_artists_set, genres_artist):\n",
    "    # total number of genres in Set\n",
    "    sum_gen = genres_artist.sum(axis=1)\n",
    "    num_gen_set = np.count_nonzero(sum_gen)\n",
    "\n",
    "    mn = np.mean(sum_gen, axis=0)\n",
    "    sd = np.std(sum_gen, axis=0)\n",
    "\n",
    "    C = 1 - (sd/(mn * (np.sqrt(len(sum_gen)) - 1)))\n",
    "\n",
    "    return C"
   ]
  },
  {
   "cell_type": "code",
   "execution_count": 57,
   "metadata": {},
   "outputs": [],
   "source": [
    "# Calculating S\n",
    "\n",
    "def calc_S(artists_in_set, songs_per_artist):\n",
    "     \n",
    "    num_edges = np.count_nonzero(artists_in_set)/2\n",
    "\n",
    "    # total number of artists in Set\n",
    "    num_artists_set = len(songs_per_artist.keys())\n",
    "\n",
    "    # std dev of artist connections per artist\n",
    "    a_edges = artists_in_set.sum(axis=1)\n",
    "    mn = np.mean(a_edges, axis=0)\n",
    "    sd = np.std(a_edges, axis=0)\n",
    "\n",
    "    S = 1 - (sd/(mn * (np.sqrt(num_artists_set) - 1)))\n",
    "    return S"
   ]
  },
  {
   "cell_type": "code",
   "execution_count": 62,
   "metadata": {},
   "outputs": [
    {
     "data": {
      "text/plain": [
       "929"
      ]
     },
     "execution_count": 62,
     "metadata": {},
     "output_type": "execute_result"
    }
   ],
   "source": [
    "len(artist_all)"
   ]
  },
  {
   "cell_type": "code",
   "execution_count": 58,
   "metadata": {},
   "outputs": [],
   "source": [
    "def main_setup(N):\n",
    "# Main Loop of Calculation\n",
    "    import copy\n",
    "    # N is number of Artists in Set\n",
    "\n",
    "    global artist_all, genre_artist_master, artist_rel_master, artist_index, songs_per_artist\n",
    "    \n",
    "    # N = 200    \n",
    "    artists_in_set = np.random.choice(artist_all.keys(), N, replace=False)\n",
    "    artists_not_in_set = artist_all.keys()\n",
    "    for a in artists_in_set:\n",
    "        artists_not_in_set.remove(a)\n",
    "\n",
    "    len(artists_in_set), len(artists_not_in_set)\n",
    "\n",
    "    # songs per artist subset    \n",
    "    s_p_a = {}\n",
    "    for a in artists_in_set:\n",
    "        s_p_a[a] = songs_per_artist[a]\n",
    "\n",
    "    # artists per genre subset\n",
    "    num_genres, num_artists = genre_artist_master.shape\n",
    "    g_a = np.zeros((num_genres, N))\n",
    "    a_rel = np.zeros((N, N))\n",
    "    index = 0\n",
    "\n",
    "    ai = [artist_index[k] for k in artists_in_set]\n",
    "\n",
    "    for i in range(num_genres):\n",
    "        g_a[i, :] = genre_artist_master[i, ai]\n",
    "\n",
    "    for a in artists_in_set:\n",
    "        ind = artist_index[a]\n",
    "        a_rel[index, :] = artist_rel_master[ind, ai]\n",
    "        a_rel[:, index] = artist_rel_master[ai, ind]    \n",
    "        index +=1\n",
    "        \n",
    "    return a_rel, g_a, s_p_a, artists_in_set, artists_not_in_set, ai"
   ]
  },
  {
   "cell_type": "code",
   "execution_count": 59,
   "metadata": {},
   "outputs": [],
   "source": [
    "\n",
    "def main_run(N):\n",
    "\n",
    "    global g_a, s_p_a, a_rel, artists_in_set, artists_not_in_set, songs_per_artists, genre_artist_master, artist_rel_master, artist_index, ai\n",
    "    \n",
    "    best_artist = []\n",
    "\n",
    "    C = calc_C(N, g_a)\n",
    "    D = calc_D(s_p_a, N)\n",
    "    S = calc_S(a_rel, s_p_a)\n",
    "    goodness = C * D * S\n",
    "\n",
    "#     print goodness\n",
    "\n",
    "    g_list = []\n",
    "    best_set = []\n",
    "    g_list_local = []\n",
    "    g_list_local.append(goodness)\n",
    "\n",
    "    for epoch in range(3):\n",
    "\n",
    "\n",
    "        # main loop for optimization\n",
    "        for i, a in enumerate(artists_in_set):\n",
    "            #remove an artist\n",
    "            s_p_a[a] = 0\n",
    "            g_a[:, i] = 0\n",
    "            a_rel[i, :] = 0\n",
    "            a_rel[:, i] = 0\n",
    "\n",
    "            change = 0\n",
    "            local_goodness = - float('inf')\n",
    "            # add artist from other set one at a time\n",
    "            for b in artists_not_in_set:\n",
    "\n",
    "                # add from other set\n",
    "                s_p_a[b] = songs_per_artist[b]\n",
    "                ai[i] = artist_index[b]\n",
    "                g_a[:, i] = genre_artist_master[:, artist_index[b]]\n",
    "                a_rel[i, :] = artist_rel_master[artist_index[b], ai]\n",
    "                a_rel[:, i] = artist_rel_master[ai, artist_index[b]]\n",
    "\n",
    "                C = calc_C(N, g_a)\n",
    "                D = calc_D(s_p_a, N)\n",
    "                S = calc_S(a_rel, s_p_a)\n",
    "\n",
    "                G = C * D * S\n",
    "                if G > local_goodness:\n",
    "                    local_goodness = G\n",
    "                    change = b\n",
    "\n",
    "                # delete other element\n",
    "                s_p_a[b] = 0\n",
    "                g_a[:, i] = 0\n",
    "                a_rel[i, :] = 0\n",
    "                a_rel[:, i] = 0       \n",
    "\n",
    "    #         print goodness\n",
    "            if local_goodness > goodness:\n",
    "                goodness = local_goodness\n",
    "                ai[i] = artist_index[change]\n",
    "                s_p_a[change] = songs_per_artist[change]\n",
    "                g_a[:, i] = genre_artist_master[:, artist_index[change]]\n",
    "                a_rel[i, :] = artist_rel_master[artist_index[change], ai]\n",
    "                a_rel[:, i] = artist_rel_master[ai, artist_index[change]]\n",
    "                artists_not_in_set.append(a)\n",
    "                artists_not_in_set.remove(change)\n",
    "            else:\n",
    "                ai[i] = artist_index[a]\n",
    "                s_p_a[a] = songs_per_artist[a]\n",
    "                g_a[:, i] = genre_artist_master[:, artist_index[a]]\n",
    "                a_rel[i, :] = artist_rel_master[artist_index[a], ai]\n",
    "                a_rel[:, i] = artist_rel_master[ai, artist_index[a]]\n",
    "\n",
    "\n",
    "\n",
    "            g_list_local.append(goodness)\n",
    "\n",
    "\n",
    "        g_list.append(np.mean(np.array(g_list_local), axis=0))\n",
    "#         print epoch, g_list_local[-1]\n",
    "    \n",
    "    return g_list_local"
   ]
  },
  {
   "cell_type": "code",
   "execution_count": 60,
   "metadata": {},
   "outputs": [],
   "source": [
    "def save_best(name, table):\n",
    "    with open('saved_data/%s.pickle'%name, 'wb') as writer:\n",
    "        pickle.dump(table, writer, protocol=pickle.HIGHEST_PROTOCOL)"
   ]
  },
  {
   "cell_type": "code",
   "execution_count": 65,
   "metadata": {},
   "outputs": [
    {
     "name": "stdout",
     "output_type": "stream",
     "text": [
      "0\n",
      "N =  50\n",
      "N =  100\n",
      "N =  150\n",
      "N =  200\n",
      "N =  250\n",
      "N =  300\n",
      "N =  350\n",
      "N =  400\n",
      "N =  450\n",
      "N =  500\n",
      "N =  550\n",
      "N =  600\n",
      "N =  650\n"
     ]
    },
    {
     "ename": "KeyboardInterrupt",
     "evalue": "",
     "output_type": "error",
     "traceback": [
      "\u001b[0;31m---------------------------------------------------------------------------\u001b[0m",
      "\u001b[0;31mKeyboardInterrupt\u001b[0m                         Traceback (most recent call last)",
      "\u001b[0;32m<ipython-input-65-f80463979cfc>\u001b[0m in \u001b[0;36m<module>\u001b[0;34m()\u001b[0m\n\u001b[1;32m      9\u001b[0m         \u001b[0;32mprint\u001b[0m \u001b[0;34m\"N = \"\u001b[0m\u001b[0;34m,\u001b[0m \u001b[0mn\u001b[0m\u001b[0;34m\u001b[0m\u001b[0m\n\u001b[1;32m     10\u001b[0m         \u001b[0ma_rel\u001b[0m\u001b[0;34m,\u001b[0m \u001b[0mg_a\u001b[0m\u001b[0;34m,\u001b[0m \u001b[0ms_p_a\u001b[0m\u001b[0;34m,\u001b[0m \u001b[0martists_in_set\u001b[0m\u001b[0;34m,\u001b[0m \u001b[0martists_not_in_set\u001b[0m\u001b[0;34m,\u001b[0m \u001b[0mai\u001b[0m \u001b[0;34m=\u001b[0m \u001b[0mmain_setup\u001b[0m\u001b[0;34m(\u001b[0m\u001b[0mn\u001b[0m\u001b[0;34m)\u001b[0m\u001b[0;34m\u001b[0m\u001b[0m\n\u001b[0;32m---> 11\u001b[0;31m         \u001b[0mv\u001b[0m \u001b[0;34m=\u001b[0m \u001b[0mmain_run\u001b[0m\u001b[0;34m(\u001b[0m\u001b[0mn\u001b[0m\u001b[0;34m)\u001b[0m\u001b[0;34m\u001b[0m\u001b[0m\n\u001b[0m\u001b[1;32m     12\u001b[0m         \u001b[0mlist_of_best_values\u001b[0m\u001b[0;34m.\u001b[0m\u001b[0mappend\u001b[0m\u001b[0;34m(\u001b[0m\u001b[0;34m[\u001b[0m\u001b[0mn\u001b[0m\u001b[0;34m,\u001b[0m \u001b[0mv\u001b[0m\u001b[0;34m[\u001b[0m\u001b[0;34m-\u001b[0m\u001b[0;36m1\u001b[0m\u001b[0;34m]\u001b[0m\u001b[0;34m]\u001b[0m\u001b[0;34m)\u001b[0m\u001b[0;34m\u001b[0m\u001b[0m\n\u001b[1;32m     13\u001b[0m     \u001b[0moverall_best_values\u001b[0m\u001b[0;34m.\u001b[0m\u001b[0mappend\u001b[0m\u001b[0;34m(\u001b[0m\u001b[0mlist_of_best_values\u001b[0m\u001b[0;34m)\u001b[0m\u001b[0;34m\u001b[0m\u001b[0m\n",
      "\u001b[0;32m<ipython-input-59-d80d0933af5f>\u001b[0m in \u001b[0;36mmain_run\u001b[0;34m(N)\u001b[0m\n\u001b[1;32m     43\u001b[0m                 \u001b[0mC\u001b[0m \u001b[0;34m=\u001b[0m \u001b[0mcalc_C\u001b[0m\u001b[0;34m(\u001b[0m\u001b[0mN\u001b[0m\u001b[0;34m,\u001b[0m \u001b[0mg_a\u001b[0m\u001b[0;34m)\u001b[0m\u001b[0;34m\u001b[0m\u001b[0m\n\u001b[1;32m     44\u001b[0m                 \u001b[0mD\u001b[0m \u001b[0;34m=\u001b[0m \u001b[0mcalc_D\u001b[0m\u001b[0;34m(\u001b[0m\u001b[0ms_p_a\u001b[0m\u001b[0;34m,\u001b[0m \u001b[0mN\u001b[0m\u001b[0;34m)\u001b[0m\u001b[0;34m\u001b[0m\u001b[0m\n\u001b[0;32m---> 45\u001b[0;31m                 \u001b[0mS\u001b[0m \u001b[0;34m=\u001b[0m \u001b[0mcalc_S\u001b[0m\u001b[0;34m(\u001b[0m\u001b[0ma_rel\u001b[0m\u001b[0;34m,\u001b[0m \u001b[0ms_p_a\u001b[0m\u001b[0;34m)\u001b[0m\u001b[0;34m\u001b[0m\u001b[0m\n\u001b[0m\u001b[1;32m     46\u001b[0m \u001b[0;34m\u001b[0m\u001b[0m\n\u001b[1;32m     47\u001b[0m                 \u001b[0mG\u001b[0m \u001b[0;34m=\u001b[0m \u001b[0mC\u001b[0m \u001b[0;34m*\u001b[0m \u001b[0mD\u001b[0m \u001b[0;34m*\u001b[0m \u001b[0mS\u001b[0m\u001b[0;34m\u001b[0m\u001b[0m\n",
      "\u001b[0;32m<ipython-input-57-7c32ca215b02>\u001b[0m in \u001b[0;36mcalc_S\u001b[0;34m(artists_in_set, songs_per_artist)\u001b[0m\n\u001b[1;32m      3\u001b[0m \u001b[0;32mdef\u001b[0m \u001b[0mcalc_S\u001b[0m\u001b[0;34m(\u001b[0m\u001b[0martists_in_set\u001b[0m\u001b[0;34m,\u001b[0m \u001b[0msongs_per_artist\u001b[0m\u001b[0;34m)\u001b[0m\u001b[0;34m:\u001b[0m\u001b[0;34m\u001b[0m\u001b[0m\n\u001b[1;32m      4\u001b[0m \u001b[0;34m\u001b[0m\u001b[0m\n\u001b[0;32m----> 5\u001b[0;31m     \u001b[0mnum_edges\u001b[0m \u001b[0;34m=\u001b[0m \u001b[0mnp\u001b[0m\u001b[0;34m.\u001b[0m\u001b[0mcount_nonzero\u001b[0m\u001b[0;34m(\u001b[0m\u001b[0martists_in_set\u001b[0m\u001b[0;34m)\u001b[0m\u001b[0;34m/\u001b[0m\u001b[0;36m2\u001b[0m\u001b[0;34m\u001b[0m\u001b[0m\n\u001b[0m\u001b[1;32m      6\u001b[0m \u001b[0;34m\u001b[0m\u001b[0m\n\u001b[1;32m      7\u001b[0m     \u001b[0;31m# total number of artists in Set\u001b[0m\u001b[0;34m\u001b[0m\u001b[0;34m\u001b[0m\u001b[0m\n",
      "\u001b[0;32m/Users/anirudhmani/anaconda2/lib/python2.7/site-packages/numpy/core/numeric.pyc\u001b[0m in \u001b[0;36mcount_nonzero\u001b[0;34m(a, axis)\u001b[0m\n\u001b[1;32m    427\u001b[0m     \"\"\"\n\u001b[1;32m    428\u001b[0m     \u001b[0;32mif\u001b[0m \u001b[0maxis\u001b[0m \u001b[0;32mis\u001b[0m \u001b[0mNone\u001b[0m \u001b[0;32mor\u001b[0m \u001b[0maxis\u001b[0m \u001b[0;34m==\u001b[0m \u001b[0;34m(\u001b[0m\u001b[0;34m)\u001b[0m\u001b[0;34m:\u001b[0m\u001b[0;34m\u001b[0m\u001b[0m\n\u001b[0;32m--> 429\u001b[0;31m         \u001b[0;32mreturn\u001b[0m \u001b[0mmultiarray\u001b[0m\u001b[0;34m.\u001b[0m\u001b[0mcount_nonzero\u001b[0m\u001b[0;34m(\u001b[0m\u001b[0ma\u001b[0m\u001b[0;34m)\u001b[0m\u001b[0;34m\u001b[0m\u001b[0m\n\u001b[0m\u001b[1;32m    430\u001b[0m \u001b[0;34m\u001b[0m\u001b[0m\n\u001b[1;32m    431\u001b[0m     \u001b[0ma\u001b[0m \u001b[0;34m=\u001b[0m \u001b[0masanyarray\u001b[0m\u001b[0;34m(\u001b[0m\u001b[0ma\u001b[0m\u001b[0;34m)\u001b[0m\u001b[0;34m\u001b[0m\u001b[0m\n",
      "\u001b[0;31mKeyboardInterrupt\u001b[0m: "
     ]
    }
   ],
   "source": [
    "# main run\n",
    "\n",
    "#to be saved\n",
    "overall_best_values = []\n",
    "for i in range(1):\n",
    "    print i\n",
    "    list_of_best_values = []\n",
    "    for n in range(50, 900, 50):\n",
    "        print \"N = \", n\n",
    "        a_rel, g_a, s_p_a, artists_in_set, artists_not_in_set, ai = main_setup(n)\n",
    "        v = main_run(n)\n",
    "        list_of_best_values.append([n, v[-1]])\n",
    "    overall_best_values.append(list_of_best_values)\n"
   ]
  },
  {
   "cell_type": "code",
   "execution_count": 38,
   "metadata": {},
   "outputs": [],
   "source": [
    "save_best(\"overall_best_small_train_10\", overall_best_values)"
   ]
  },
  {
   "cell_type": "code",
   "execution_count": 35,
   "metadata": {},
   "outputs": [
    {
     "name": "stdout",
     "output_type": "stream",
     "text": [
      "[60, 0.78111525798370773]\n",
      "[150, 0.77954866252954913]\n",
      "[120, 0.77993522934317239]\n",
      "[110, 0.77646911766016335]\n",
      "[100, 0.7783637953593896]\n",
      "[130, 0.77926219205770808]\n",
      "[170, 0.77595390929600838]\n",
      "[130, 0.77927534882059624]\n",
      "[130, 0.77837089018741989]\n",
      "[160, 0.77985873843299269]\n"
     ]
    }
   ],
   "source": [
    "best_Ns = []\n",
    "\n",
    "for best_values in overall_best_values:\n",
    "    del best_values[0]\n",
    "    best_n = max(best_values, key= lambda x: x[1])\n",
    "    best_Ns.append(best_n)\n",
    "    print best_n\n",
    "        \n",
    "save_best(\"best_n\", best_Ns)"
   ]
  },
  {
   "cell_type": "code",
   "execution_count": 129,
   "metadata": {},
   "outputs": [
    {
     "name": "stdout",
     "output_type": "stream",
     "text": [
      "0.653568709383\n",
      "0 0.780694268009\n",
      "1 0.780694268009\n",
      "0.666068136728\n",
      "0 0.782212303439\n",
      "1 0.782212303439\n",
      "0.648664631456\n",
      "0 0.787974030669\n",
      "1 0.787974030669\n",
      "0.674803967449\n",
      "0 0.786075029648\n",
      "1 0.786075029648\n",
      "0.648310491225\n",
      "0 0.784906618492\n",
      "1 0.784931780466\n",
      "0.648260982248\n",
      "0 0.784953365535\n",
      "1 0.784953365535\n",
      "0.659810492163\n",
      "0 0.782354111403\n",
      "1 0.782354111403\n",
      "0.660993119013\n",
      "0 0.789050530189\n",
      "1 0.789050530189\n",
      "0.6424767691\n",
      "0 0.783530114231\n",
      "1 0.783530114231\n",
      "0.647775151117\n",
      "0 0.780710541593\n",
      "1 0.780710541593\n",
      "0.655786426189\n",
      "0 0.783307920078\n",
      "1 0.783410409096\n",
      "0.639535305677\n",
      "0 0.789537677274\n",
      "1 0.789537677274\n",
      "0.647303087683\n",
      "0 0.783027593442\n",
      "1 0.783027593442\n",
      "0.649693809039\n",
      "0 0.781812760111\n",
      "1 0.781812760111\n",
      "0.623686217458\n",
      "0 0.782420887157\n",
      "1 0.782420887157\n",
      "0.640891893897\n",
      "0 0.782272197727\n",
      "1 0.782272197727\n",
      "0.646023994684\n",
      "0 0.782111053005\n",
      "1 0.782111053005\n",
      "0.623565761381\n",
      "0 0.782004785374\n",
      "1 0.782004785374\n",
      "0.655720602039\n",
      "0 0.784232902803\n",
      "1 0.784232902803\n",
      "0.630325185689\n",
      "0 0.781591994861\n",
      "1 0.781591994861\n"
     ]
    }
   ],
   "source": [
    "# find best N\n",
    "best_n = max(list_of_best_values, key= lambda x: x[1])[0]    "
   ]
  },
  {
   "cell_type": "code",
   "execution_count": 131,
   "metadata": {},
   "outputs": [
    {
     "data": {
      "text/plain": [
       "([0.65356870938280831,\n",
       "  0.66606813672816767,\n",
       "  0.64866463145636821,\n",
       "  0.67480396744864479,\n",
       "  0.64831049122515105,\n",
       "  0.64826098224776318,\n",
       "  0.65981049216326459,\n",
       "  0.66099311901321589,\n",
       "  0.642476769099668,\n",
       "  0.64777515111703599,\n",
       "  0.65578642618870531,\n",
       "  0.63953530567651939,\n",
       "  0.647303087683052,\n",
       "  0.64969380903907237,\n",
       "  0.62368621745752673,\n",
       "  0.64089189389739198,\n",
       "  0.64602399468385385,\n",
       "  0.62356576138079822,\n",
       "  0.6557206020386569,\n",
       "  0.63032518568913765],\n",
       " [0.78069426800922037,\n",
       "  0.78221230343918069,\n",
       "  0.7879740306687476,\n",
       "  0.78607502964824227,\n",
       "  0.78493178046596079,\n",
       "  0.78495336553512007,\n",
       "  0.78235411140336342,\n",
       "  0.78905053018872529,\n",
       "  0.78353011423119301,\n",
       "  0.78071054159265496,\n",
       "  0.78341040909556037,\n",
       "  0.78953767727371682,\n",
       "  0.7830275934421268,\n",
       "  0.78181276011080969,\n",
       "  0.7824208871565006,\n",
       "  0.78227219772663215,\n",
       "  0.78211105300484784,\n",
       "  0.7820047853743306,\n",
       "  0.78423290280278091,\n",
       "  0.78159199486138464])"
      ]
     },
     "execution_count": 131,
     "metadata": {},
     "output_type": "execute_result"
    }
   ],
   "source": [
    "# find starting and end points for best N for 20 points\n",
    "st_pt = []\n",
    "end_pt = []\n",
    "for i in range(20):\n",
    "    a_rel, g_a, s_p_a, artists_in_set, artists_not_in_set, ai = main_setup(n, artist_all, genre_artist_master, artist_rel_master, artist_index)\n",
    "    v = main_run(N, g_a, s_p_a, a_rel, artists_in_set, artists_not_in_set, songs_per_artist, genre_artist_master, artist_rel_master, artist_index, ai)\n",
    "    st_pt.append(v[0])\n",
    "    end_pt.append(v[-1])"
   ]
  },
  {
   "cell_type": "code",
   "execution_count": 132,
   "metadata": {},
   "outputs": [],
   "source": [
    "def save_goodness(name, table):\n",
    "    with open('saved_data/%s.pickle'%name, 'wb') as writer:\n",
    "        pickle.dump(table, writer, protocol=pickle.HIGHEST_PROTOCOL)\n",
    "        \n",
    "save_goodness(\"best_st_pt\", st_pt)\n",
    "save_goodness(\"best_end_pt\", end_pt)\n"
   ]
  },
  {
   "cell_type": "code",
   "execution_count": 1,
   "metadata": {},
   "outputs": [
    {
     "ename": "NameError",
     "evalue": "name 'st_pt' is not defined",
     "output_type": "error",
     "traceback": [
      "\u001b[0;31m---------------------------------------------------------------------------\u001b[0m",
      "\u001b[0;31mNameError\u001b[0m                                 Traceback (most recent call last)",
      "\u001b[0;32m<ipython-input-1-26f3a10bc4d5>\u001b[0m in \u001b[0;36m<module>\u001b[0;34m()\u001b[0m\n\u001b[0;32m----> 1\u001b[0;31m \u001b[0mst_pt\u001b[0m\u001b[0;34m\u001b[0m\u001b[0m\n\u001b[0m",
      "\u001b[0;31mNameError\u001b[0m: name 'st_pt' is not defined"
     ]
    }
   ],
   "source": []
  },
  {
   "cell_type": "code",
   "execution_count": null,
   "metadata": {},
   "outputs": [],
   "source": []
  }
 ],
 "metadata": {
  "kernelspec": {
   "display_name": "Python 2",
   "language": "python",
   "name": "python2"
  },
  "language_info": {
   "codemirror_mode": {
    "name": "ipython",
    "version": 2
   },
   "file_extension": ".py",
   "mimetype": "text/x-python",
   "name": "python",
   "nbconvert_exporter": "python",
   "pygments_lexer": "ipython2",
   "version": "2.7.14"
  }
 },
 "nbformat": 4,
 "nbformat_minor": 2
}
