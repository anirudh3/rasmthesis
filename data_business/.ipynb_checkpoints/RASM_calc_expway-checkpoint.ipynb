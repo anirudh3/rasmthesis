{
 "cells": [
  {
   "cell_type": "code",
   "execution_count": 7,
   "metadata": {},
   "outputs": [],
   "source": [
    "import os\n",
    "\n",
    "# import IPython.display as ipd\n",
    "import numpy as np\n",
    "import pandas as pd\n",
    "import matplotlib.pyplot as plt\n",
    "import seaborn as sns\n",
    "import sklearn as skl\n",
    "import sklearn.utils, sklearn.preprocessing, sklearn.decomposition, sklearn.svm\n",
    "import librosa\n",
    "import librosa.display\n",
    "# import get_related_artists as from_echo\n",
    "import re\n",
    "import pickle\n",
    "from IPython.display import display, HTML\n",
    "import python_utils as utils\n",
    "import time\n"
   ]
  },
  {
   "cell_type": "code",
   "execution_count": 8,
   "metadata": {},
   "outputs": [
    {
     "name": "stderr",
     "output_type": "stream",
     "text": [
      "/Users/anirudhmani/anaconda2/lib/python2.7/site-packages/IPython/core/interactiveshell.py:2718: DtypeWarning: Columns (0,1,2,3,4,5,6,7,8,11,13,16,17,18,19,20,21,22,23,24,25,26,27,28,29,30,31,32,33,34,35,36,37,38,39,40,41,42,43,44,45,46,47,48,49,50,51,52,53,54,55,56,57,58,59,60,61,62,63,64,65,66,67,68,69,70,71,72,73,74,75,76,77,78,79,80,81,82,83,84,85,86,87,88,89,90,91,92,93,94,95,96,97,98,99,100,101,102,103,104,105,106,107,108,109,110,111,112,113,114,115,116,117,118,119,120,121,122,123,124,125,126,127,128,129,130,131,132,133,134,135,136,137,138,139,140,141,142,143,144,145,146,147,148,149,150,151,152,153,154,155,156,157,158,159,160,161,162,163,164,165,166,167,168,169,170,171,172,173,174,175,176,177,178,179,180,181,182,183,184,185,186,187,188,189,190,191,192,193,194,195,196,197,198,199,200,201,202,203,204,205,206,207,208,209,210,211,212,213,214,215,216,217,218,219,220,221,222,223,224,225,226,227,228,229,230,231,232,233,234,235,236,237,238,239,240,241,242,243,244,245,246,247,248,249) have mixed types. Specify dtype option on import or set low_memory=False.\n",
      "  interactivity=interactivity, compiler=compiler, result=result)\n"
     ]
    },
    {
     "data": {
      "text/plain": [
       "((106576, 53), (163, 5), (106577, 519), (13132, 250))"
      ]
     },
     "execution_count": 8,
     "metadata": {},
     "output_type": "execute_result"
    }
   ],
   "source": [
    "# Load metadata and features.\n",
    "tracks = pd.read_csv('fma_metadata/tracks.csv')\n",
    "# r_tracks = pd.read_csv('fma_metadata/raw_tracks.csv')\n",
    "genres = pd.read_csv('fma_metadata/genres.csv')\n",
    "features = pd.read_csv('fma_metadata/features.csv')\n",
    "echonest = pd.read_csv('fma_metadata/echonest.csv')\n",
    "# r_artists = pd.read_csv('fma_metadata/raw_artists.csv')\n",
    "\n",
    "tracks.shape, genres.shape, features.shape, echonest.shape"
   ]
  },
  {
   "cell_type": "code",
   "execution_count": 34,
   "metadata": {},
   "outputs": [],
   "source": [
    "tracks_sm = tracks.loc[(tracks['set.1'] == 'small') & (tracks['set'] == 'training')]"
   ]
  },
  {
   "cell_type": "code",
   "execution_count": 28,
   "metadata": {},
   "outputs": [],
   "source": [
    "# Spotify  Business\n",
    "\n",
    "import sys\n",
    "import spotipy\n",
    "import pprint\n",
    "''' shows recommendations for the given artist\n",
    "'''\n",
    "\n",
    "\n",
    "from spotipy.oauth2 import SpotifyClientCredentials\n",
    "client_credentials_manager = SpotifyClientCredentials(client_id='ba6790bdcd434f06b7b577e344c6e0ae', client_secret='145715e565ff48469c306484896a34f5')\n",
    "sp = spotipy.Spotify(client_credentials_manager=client_credentials_manager)\n",
    "sp.trace=False\n",
    "\n",
    "def get_artist(name):\n",
    "    results = sp.search(q='artist:' + name, type='artist')\n",
    "    items = results['artists']['items']\n",
    "    if len(items) > 0:\n",
    "        return items[0]\n",
    "    else:\n",
    "        return None\n",
    "\n",
    "\n",
    "def get_related(uri):\n",
    "    \n",
    "    related = sp.artist_related_artists(uri)\n",
    "    ans = [] \n",
    "    \n",
    "    for artist in related['artists']:\n",
    "        ans.append(artist['name'])\n",
    "#        print artist['name']\n",
    "        \n",
    "    \n",
    "    return ans\n",
    "    \n",
    "def save_spot_rel_artists(name, table):\n",
    "    with open('saved_data/%s.pickle'%name, 'wb') as writer:\n",
    "        pickle.dump(table, writer, protocol=pickle.HIGHEST_PROTOCOL)\n",
    "        \n",
    "def load_spot_rel_artists(name):\n",
    "    with open(name, 'rb') as handle:\n",
    "        thing = pickle.load(handle)   \n",
    "    return thing"
   ]
  },
  {
   "cell_type": "code",
   "execution_count": 35,
   "metadata": {},
   "outputs": [
    {
     "data": {
      "text/plain": [
       "3542"
      ]
     },
     "execution_count": 35,
     "metadata": {},
     "output_type": "execute_result"
    }
   ],
   "source": [
    "len(tracks_sm['artist.12'].unique())"
   ]
  },
  {
   "cell_type": "code",
   "execution_count": 76,
   "metadata": {},
   "outputs": [
    {
     "name": "stdout",
     "output_type": "stream",
     "text": [
      "0\n",
      "100\n",
      "200\n",
      "300\n",
      "400\n",
      "500\n",
      "600\n",
      "700\n",
      "800\n",
      "900\n",
      "1000\n",
      "1100\n",
      "1200\n",
      "1300\n",
      "1400\n",
      "retrying ...1secs\n",
      "1500\n",
      "1600\n",
      "retrying ...1secs\n",
      "1700\n",
      "retrying ...1secs\n",
      "retrying ...1secs\n",
      "1800\n",
      "1900\n",
      "2000\n",
      "2100\n",
      "retrying ...1secs\n",
      "2200\n",
      "retrying ...1secs\n",
      "retrying ...1secs\n",
      "2300\n",
      "2400\n",
      "retrying ...1secs\n",
      "retrying ...1secs\n",
      "2500\n",
      "2600\n",
      "retrying ...1secs\n",
      "retrying ...2secs\n",
      "2700\n",
      "2800\n",
      "retrying ...1secs\n",
      "retrying ...1secs\n",
      "2900\n",
      "3000\n",
      "3100\n",
      "3200\n",
      "3300\n",
      "3400\n",
      "3500\n",
      "3600\n",
      "3700\n",
      "3800\n",
      "3900\n",
      "4000\n",
      "4100\n",
      "4200\n",
      "4300\n",
      "4400\n",
      "4500\n",
      "4600\n",
      "4700\n",
      "retrying ...1secs\n",
      "4800\n",
      "retrying ...1secs\n",
      "4900\n",
      "5000\n",
      "5100\n",
      "5200\n",
      "5300\n",
      "5400\n",
      "5500\n",
      "retrying ...1secs\n",
      "5600\n",
      "5700\n",
      "retrying ...1secs\n",
      "5800\n",
      "retrying ...1secs\n",
      "5900\n",
      "6000\n",
      "6100\n",
      "retrying ...1secs\n",
      "6200\n",
      "6300\n",
      "6400\n",
      "retrying ...1secs\n",
      "6500\n",
      "6600\n",
      "6700\n",
      "6800\n",
      "retrying ...1secs\n",
      "6900\n",
      "7000\n",
      "7100\n",
      "retrying ...1secs\n",
      "7200\n",
      "7300\n",
      "7400\n",
      "retrying ...1secs\n",
      "7500\n",
      "7600\n",
      "7700\n",
      "7800\n",
      "7900\n",
      "8000\n",
      "8100\n",
      "8200\n",
      "8300\n",
      "8400\n",
      "8500\n",
      "8600\n",
      "8700\n",
      "8800\n",
      "8900\n",
      "9000\n",
      "9100\n",
      "9200\n",
      "9300\n",
      "9400\n",
      "9500\n",
      "9600\n",
      "9700\n",
      "9800\n",
      "9900\n",
      "10000\n",
      "10100\n",
      "10200\n",
      "10300\n",
      "10400\n",
      "10500\n",
      "10600\n",
      "10700\n",
      "10800\n",
      "10900\n",
      "11000\n",
      "11100\n",
      "11200\n",
      "11300\n",
      "11400\n",
      "11500\n",
      "11600\n",
      "11700\n"
     ]
    }
   ],
   "source": [
    "# get spotify artist_id for every artist, and related artists\n",
    "na = 0\n",
    "artist_rel = {}\n",
    "artists_sm = tracks_sm['artist.12'].unique()\n",
    "\n",
    "for i, elem in enumerate(artists_sm):\n",
    "    \n",
    "    artist = re.split(',', elem)[0]\n",
    "    if i%100 == 0:\n",
    "        print i\n",
    "    \n",
    "#     a_id = from_echo.get_artist(artist)\n",
    "    try:\n",
    "        a_id = get_artist(artist)\n",
    "\n",
    "        if a_id:\n",
    "    #         related_artists = from_echo.get_related(a_id['uri'])\n",
    "            related_artists = get_related(a_id['uri'])\n",
    "    #        print related_artists\n",
    "            if related_artists:\n",
    "                artist_rel[artist] = related_artists\n",
    "    #             artist_rel[artist] = a_id\n",
    "            else:\n",
    "                na += 1\n",
    "        else:\n",
    "            na += 1\n",
    "    except:\n",
    "        continue\n",
    "        \n",
    "\n"
   ]
  },
  {
   "cell_type": "code",
   "execution_count": null,
   "metadata": {},
   "outputs": [],
   "source": []
  },
  {
   "cell_type": "code",
   "execution_count": 77,
   "metadata": {},
   "outputs": [],
   "source": [
    "# save_spot_rel_artists(\"artist_rel_medium_training\", artist_rel)\n",
    "save_spot_rel_artists(\"artist_rel_    _training\", artist_rel) "
   ]
  },
  {
   "cell_type": "code",
   "execution_count": 12,
   "metadata": {},
   "outputs": [],
   "source": [
    "# load artists\n",
    "artist_rel = load_spot_rel_artists(\"saved_data/artist_rel_small_training.pickle\")"
   ]
  },
  {
   "cell_type": "code",
   "execution_count": 13,
   "metadata": {},
   "outputs": [
    {
     "data": {
      "text/plain": [
       "1026"
      ]
     },
     "execution_count": 13,
     "metadata": {},
     "output_type": "execute_result"
    }
   ],
   "source": [
    "len(artist_rel)"
   ]
  },
  {
   "cell_type": "code",
   "execution_count": 14,
   "metadata": {},
   "outputs": [],
   "source": [
    "# Subsetting Business, Creating Master tables\n",
    "\n",
    "# Creating Condensed Artist Map, and Master 2D Table\n",
    "artist_all = {}\n",
    "\n",
    "for key in artist_rel:\n",
    "    artist_all[key] = set()\n",
    "\n",
    "for key in artist_rel:\n",
    "    for elem in artist_rel[key]:\n",
    "        if artist_rel.get(elem, None) is not None:\n",
    "            artist_all[key].add(elem)\n",
    "            artist_all[elem].add(key)\n",
    "\n",
    "# assert len(artist_all) == len(artist_rel)  \n",
    "# deleting artists with no related artist in set\n",
    "keys = artist_all.keys()\n",
    "for key in keys:\n",
    "    if not artist_all[key]:\n",
    "        del artist_all[key]\n",
    "#         pass\n",
    "    else:\n",
    "        artist_all[key] = list(artist_all[key])\n",
    "        \n",
    "# Artist Index Map\n",
    "artist_index = {}\n",
    "for i, a in enumerate(artist_all.keys()):\n",
    "    artist_index[a] = i\n"
   ]
  },
  {
   "cell_type": "code",
   "execution_count": 15,
   "metadata": {},
   "outputs": [],
   "source": [
    "artist_rel_master = np.zeros((len(artist_all.keys()), len(artist_all.keys())))\n",
    "\n",
    "# Master table of artist relation\n",
    "for i, a in enumerate(artist_all.keys()):\n",
    "    # going through each artist\n",
    "    for b in artist_all[a]:\n",
    "        artist_rel_master[artist_index[a]][artist_index[b]] = 1\n",
    "\n",
    "# print artist_rel_master[artist_index['Robo']][artist_index['Robo']]"
   ]
  },
  {
   "cell_type": "code",
   "execution_count": 16,
   "metadata": {},
   "outputs": [],
   "source": [
    "# Master table of artists per genre\n",
    "\n",
    "# songs per genre\n",
    "genres_all = {} # maybe redundant\n",
    "c = 0\n",
    "artists_set = list(tracks_sm['artist.12'])\n",
    "genres_artist = {}\n",
    "i = 0\n",
    "for gens in tracks_sm['track.9']:\n",
    "    l = [re.split(']', s) for s in re.split(', |\\[', gens)]\n",
    "    gens = [item for sublist in l for item in sublist]\n",
    "    for g in gens:\n",
    "        if g.isdigit():\n",
    "            if genres_all.get(int(g), -1) != -1:\n",
    "                pass\n",
    "            else:\n",
    "                genres_all[int(g)] = c\n",
    "                c += 1\n",
    "            if genres_artist.get(int(g), -1) == -1:\n",
    "                genres_artist[int(g)] = set()\n",
    "            if artist_all.get(artists_set[i], None) is not None:\n",
    "                genres_artist[int(g)].add(artists_set[i]) \n",
    "    i += 1\n",
    "\n"
   ]
  },
  {
   "cell_type": "code",
   "execution_count": 17,
   "metadata": {},
   "outputs": [],
   "source": [
    "# creating master table of artists per genre\n",
    "\n",
    "genre_artist_master = np.zeros((len(genres_all.keys()), len(artist_all.keys())))\n",
    "\n",
    "for g in genres_all.keys():\n",
    "#     print genres_artist[g]\n",
    "    for a in genres_artist[g]:\n",
    "#         print a\n",
    "        genre_artist_master[genres_all[g]][artist_index[a]] = 1\n",
    "        \n",
    "# print genre_artist_master"
   ]
  },
  {
   "cell_type": "code",
   "execution_count": 12,
   "metadata": {},
   "outputs": [],
   "source": [
    "# Number of songs per artist\n",
    "songs_per_artist = {}\n",
    "max_overall_d = 0\n",
    "\n",
    "for k in artist_all.keys():\n",
    "    songs_per_artist[k] = len(tracks_sm[tracks_sm['artist.12'] == k])\n",
    "    max_overall_d = max(songs_per_artist[k], max_overall_d)"
   ]
  },
  {
   "cell_type": "code",
   "execution_count": 18,
   "metadata": {},
   "outputs": [
    {
     "data": {
      "text/plain": [
       "(114, 394)"
      ]
     },
     "execution_count": 18,
     "metadata": {},
     "output_type": "execute_result"
    }
   ],
   "source": [
    "genre_artist_master.shape"
   ]
  },
  {
   "cell_type": "code",
   "execution_count": 13,
   "metadata": {},
   "outputs": [],
   "source": [
    "# debugger to count number of calls\n",
    "count_calls = 0"
   ]
  },
  {
   "cell_type": "code",
   "execution_count": 14,
   "metadata": {},
   "outputs": [],
   "source": [
    "# Calculating D\n",
    "\n",
    "def calc_D(songs_per_artist, num_artists_set, max_d):\n",
    "    \n",
    "    global count_calls\n",
    "    count_calls += 1\n",
    "    \n",
    "    # total number of songs in Set\n",
    "    num_songs_set = 0\n",
    "    data = []\n",
    "    for k in songs_per_artist:\n",
    "        num_songs_set += songs_per_artist[k]\n",
    "        if songs_per_artist[k] != 0:\n",
    "            data.append(songs_per_artist[k])\n",
    "\n",
    "    data = np.array(data)\n",
    "    mn = np.mean(data, axis=0)\n",
    "    sd = np.std(data, axis=0)\n",
    "    \n",
    "    D = 1 - (sd/(mn * (np.sqrt(num_artists_set) - 1)))\n",
    "    D = D * (np.sum(data) * 1.0)/(num_artists_set * max_d)\n",
    "#     print D\n",
    "    return D\n"
   ]
  },
  {
   "cell_type": "code",
   "execution_count": 15,
   "metadata": {},
   "outputs": [],
   "source": [
    "# Calculating C\n",
    "\n",
    "def calc_C(num_artists_set, genres_artist):\n",
    "    \n",
    "#     global count_calls\n",
    "#     count_calls += 1\n",
    "    \n",
    "    # total number of genres in Set\n",
    "    sum_gen = genres_artist.sum(axis=1)\n",
    "    num_gen_set = np.count_nonzero(sum_gen)\n",
    "\n",
    "    mn = np.mean(sum_gen, axis=0)\n",
    "    sd = np.std(sum_gen, axis=0)\n",
    "\n",
    "    C = 1 - (sd/(mn * (np.sqrt(len(sum_gen)) - 1)))\n",
    "    C = C * (np.sum(sum_gen) * 1.0)/(num_gen_set * num_artists_set)\n",
    "\n",
    "#     print C\n",
    "    return C\n"
   ]
  },
  {
   "cell_type": "code",
   "execution_count": 16,
   "metadata": {},
   "outputs": [],
   "source": [
    "# Calculating S\n",
    "\n",
    "def calc_S(artists_in_set, songs_per_artist):\n",
    "     \n",
    "#     print artists_in_set   \n",
    "#     global count_calls\n",
    "#     count_calls += 1\n",
    "        \n",
    "    num_edges = np.count_nonzero(artists_in_set)/2\n",
    "\n",
    "    # total number of artists in Set\n",
    "    num_artists_set = len(songs_per_artist.keys())\n",
    "\n",
    "    # std dev of artist connections per artist\n",
    "    a_edges = artists_in_set.sum(axis=1)\n",
    "    mn = np.mean(a_edges, axis=0)\n",
    "    sd = np.std(a_edges, axis=0)\n",
    "\n",
    "    S = 1 - (sd/(mn * (np.sqrt(num_artists_set) - 1)))\n",
    "    S = S * (np.sum(a_edges)/num_artists_set ** 2)\n",
    "    \n",
    "#     print S\n",
    "    return S\n"
   ]
  },
  {
   "cell_type": "code",
   "execution_count": 17,
   "metadata": {},
   "outputs": [
    {
     "data": {
      "text/plain": [
       "394"
      ]
     },
     "execution_count": 17,
     "metadata": {},
     "output_type": "execute_result"
    }
   ],
   "source": [
    "len(artist_all)"
   ]
  },
  {
   "cell_type": "code",
   "execution_count": 18,
   "metadata": {},
   "outputs": [],
   "source": [
    "def main_setup(N):\n",
    "# Main Loop of Calculation\n",
    "    import copy\n",
    "    # N is number of Artists in Set\n",
    "\n",
    "    global artist_all, genre_artist_master, artist_rel_master, artist_index, songs_per_artist, count_calls\n",
    "    \n",
    "    count_calls = 0\n",
    "    \n",
    "    # N = 200    \n",
    "    artists_in_set = np.random.choice(artist_all.keys(), N, replace=False)\n",
    "    artists_not_in_set = artist_all.keys()\n",
    "    for a in artists_in_set:\n",
    "        artists_not_in_set.remove(a)\n",
    "\n",
    "#     print len(artists_in_set), len(artists_not_in_set)\n",
    "\n",
    "    # songs per artist subset    \n",
    "    s_p_a = {}\n",
    "    for a in artists_in_set:\n",
    "        s_p_a[a] = songs_per_artist[a]\n",
    "\n",
    "    # artists per genre subset\n",
    "    num_genres, num_artists = genre_artist_master.shape\n",
    "    g_a = np.zeros((num_genres, N))\n",
    "    a_rel = np.zeros((N, N))\n",
    "    index = 0\n",
    "\n",
    "    ai = [artist_index[k] for k in artists_in_set]\n",
    "\n",
    "    for i in range(num_genres):\n",
    "        g_a[i, :] = genre_artist_master[i, ai]\n",
    "\n",
    "    for a in artists_in_set:\n",
    "        ind = artist_index[a]\n",
    "        a_rel[index, :] = artist_rel_master[ind, ai]\n",
    "        a_rel[:, index] = artist_rel_master[ai, ind]    \n",
    "        index +=1\n",
    "        \n",
    "    return a_rel, g_a, s_p_a, artists_in_set, artists_not_in_set, ai"
   ]
  },
  {
   "cell_type": "code",
   "execution_count": 19,
   "metadata": {},
   "outputs": [],
   "source": [
    "# a_rel, g_a, s_p_a, artists_in_set, artists_not_in_set, ai = main_setup(200)"
   ]
  },
  {
   "cell_type": "code",
   "execution_count": null,
   "metadata": {},
   "outputs": [],
   "source": []
  },
  {
   "cell_type": "code",
   "execution_count": 23,
   "metadata": {},
   "outputs": [],
   "source": [
    "\n",
    "def main_run(N):\n",
    "\n",
    "    global g_a, s_p_a, a_rel, artists_in_set, artists_not_in_set, songs_per_artists, genre_artist_master, artist_rel_master, artist_index, ai, max_overall_d, count_calls\n",
    "    \n",
    "    best_artist = []\n",
    "\n",
    "    C = calc_C(N, g_a)\n",
    "    D = calc_D(s_p_a, N, max_overall_d)\n",
    "    S = calc_S(a_rel, s_p_a)\n",
    "    goodness = C * D * S\n",
    "\n",
    "    \n",
    "    g_list = []\n",
    "    best_set = []\n",
    "    g_list_local = []\n",
    "    g_list_local.append(goodness)\n",
    "    c_list_local = []\n",
    "    c_list_local.append(C)\n",
    "    d_list_local = []\n",
    "    d_list_local.append(D)\n",
    "    s_list_local = []\n",
    "    s_list_local.append(S)\n",
    "    \n",
    "\n",
    "    for epoch in range(1):\n",
    "\n",
    "\n",
    "        # main loop for optimization\n",
    "        for i, a in enumerate(artists_in_set):\n",
    "            #remove an artist\n",
    "            s_p_a[a] = 0\n",
    "            g_a[:, i] = 0\n",
    "            a_rel[i, :] = 0\n",
    "            a_rel[:, i] = 0\n",
    "\n",
    "            change = 0\n",
    "            local_goodness = - float('inf')\n",
    "            local_c = 0.\n",
    "            local_d = 0.\n",
    "            local_s = 0.\n",
    "            # add artist from other set one at a time\n",
    "            for b in artists_not_in_set:\n",
    "\n",
    "                # add from other set\n",
    "                s_p_a[b] = songs_per_artist[b]\n",
    "                ai[i] = artist_index[b]\n",
    "                g_a[:, i] = genre_artist_master[:, artist_index[b]]\n",
    "                a_rel[i, :] = artist_rel_master[artist_index[b], ai]\n",
    "                a_rel[:, i] = artist_rel_master[ai, artist_index[b]]\n",
    "\n",
    "                Cee = calc_C(N, g_a)\n",
    "                Dee = calc_D(s_p_a, N, max_overall_d)\n",
    "                Sss = calc_S(a_rel, s_p_a)\n",
    "\n",
    "                G = Cee * Dee * Sss\n",
    "                if G > local_goodness:\n",
    "                    local_goodness = G\n",
    "                    change = b\n",
    "                    local_c = Cee\n",
    "                    local_d = Dee\n",
    "                    local_s = Sss\n",
    "\n",
    "                # delete other element\n",
    "                s_p_a[b] = 0\n",
    "                g_a[:, i] = 0\n",
    "                a_rel[i, :] = 0\n",
    "                a_rel[:, i] = 0       \n",
    "\n",
    "    #         print goodness\n",
    "            if local_goodness > goodness:\n",
    "                goodness = local_goodness\n",
    "                C = local_c\n",
    "                D = local_d\n",
    "                S = local_s\n",
    "                ai[i] = artist_index[change]\n",
    "                s_p_a[change] = songs_per_artist[change]\n",
    "                g_a[:, i] = genre_artist_master[:, artist_index[change]]\n",
    "                a_rel[i, :] = artist_rel_master[artist_index[change], ai]\n",
    "                a_rel[:, i] = artist_rel_master[ai, artist_index[change]]\n",
    "                artists_not_in_set.append(a)\n",
    "                artists_not_in_set.remove(change)\n",
    "            else:\n",
    "                ai[i] = artist_index[a]\n",
    "                s_p_a[a] = songs_per_artist[a]\n",
    "                g_a[:, i] = genre_artist_master[:, artist_index[a]]\n",
    "                a_rel[i, :] = artist_rel_master[artist_index[a], ai]\n",
    "                a_rel[:, i] = artist_rel_master[ai, artist_index[a]]\n",
    "\n",
    "\n",
    "\n",
    "            g_list_local.append(goodness)\n",
    "            c_list_local.append(C)\n",
    "            d_list_local.append(D)\n",
    "            s_list_local.append(S)\n",
    "\n",
    "\n",
    "        g_list.append(np.mean(np.array(g_list_local), axis=0))\n",
    "#         print epoch, g_list_local[-1]\n",
    "    \n",
    "    return g_list_local, c_list_local, d_list_local, s_list_local"
   ]
  },
  {
   "cell_type": "code",
   "execution_count": 21,
   "metadata": {},
   "outputs": [],
   "source": [
    "def save_best(name, table):\n",
    "    with open('saved_data/%s.pickle'%name, 'wb') as writer:\n",
    "        pickle.dump(table, writer, protocol=pickle.HIGHEST_PROTOCOL)"
   ]
  },
  {
   "cell_type": "code",
   "execution_count": 28,
   "metadata": {},
   "outputs": [
    {
     "name": "stdout",
     "output_type": "stream",
     "text": [
      "50\n",
      "60\n",
      "70\n",
      "80\n",
      "90\n",
      "100\n",
      "110\n",
      "120\n",
      "130\n",
      "140\n",
      "150\n",
      "160\n",
      "170\n",
      "180\n",
      "190\n",
      "200\n",
      "210\n",
      "220\n",
      "230\n",
      "240\n",
      "250\n",
      "260\n",
      "270\n",
      "280\n",
      "290\n",
      "300\n",
      "310\n",
      "320\n",
      "330\n",
      "340\n",
      "350\n",
      "360\n",
      "370\n",
      "380\n",
      "390\n"
     ]
    }
   ],
   "source": [
    "# main run\n",
    "\n",
    "#to be saved\n",
    "overall_best_values = []\n",
    "the_times = []\n",
    "for i in range(1):\n",
    "#     print i\n",
    "    list_of_best_values = []\n",
    "    for n in range(50, 394, 10):\n",
    "        start_time = time.time()\n",
    "#         print \"N = \", n\n",
    "        a_rel, g_a, s_p_a, artists_in_set, artists_not_in_set, ai = main_setup(n)\n",
    "#         break\n",
    "        v, c, d, s = main_run(n)\n",
    "#         print \"number of calls:\", count_calls\n",
    "#         print n, (time.time() - start_time)\n",
    "        the_times.append([count_calls, n, (time.time() - start_time)])\n",
    "        \n",
    "        list_of_best_values.append([n, v[-1], c[-1], d[-1], s[-1]])\n",
    "#         print v[-1], c[-1], d[-1], s[-1]\n",
    "#     break\n",
    "        print n\n",
    "\n",
    "#     print i\n",
    "    overall_best_values.append(list_of_best_values)\n",
    "\n",
    "# save_best(\"overall_GCSD_small_train_newform_5\", overall_best_values)\n",
    "save_best(\"the_times_small_train_3\", the_times)"
   ]
  },
  {
   "cell_type": "code",
   "execution_count": 27,
   "metadata": {},
   "outputs": [
    {
     "data": {
      "text/plain": [
       "[[17201, 50, 7.531325101852417],\n",
       " [20041, 60, 8.150126934051514],\n",
       " [22681, 70, 10.563747882843018],\n",
       " [25121, 80, 11.361807823181152],\n",
       " [27361, 90, 15.003988981246948],\n",
       " [29401, 100, 18.089258909225464],\n",
       " [31241, 110, 15.27815294265747],\n",
       " [32881, 120, 15.96416711807251],\n",
       " [34321, 130, 17.29012393951416],\n",
       " [35561, 140, 18.22868013381958],\n",
       " [36601, 150, 19.488417863845825],\n",
       " [37441, 160, 21.260013818740845],\n",
       " [38081, 170, 21.435899019241333],\n",
       " [38521, 180, 22.444891929626465],\n",
       " [38761, 190, 23.301581859588623],\n",
       " [38801, 200, 24.736983060836792],\n",
       " [38641, 210, 25.064972162246704],\n",
       " [38281, 220, 26.236207008361816],\n",
       " [37721, 230, 27.229042053222656],\n",
       " [36961, 240, 27.8231041431427],\n",
       " [36001, 250, 26.877403020858765],\n",
       " [34841, 260, 26.752284049987793],\n",
       " [33481, 270, 28.790281057357788],\n",
       " [31921, 280, 27.28665590286255],\n",
       " [30161, 290, 28.106808185577393],\n",
       " [28201, 300, 24.79360604286194],\n",
       " [26041, 310, 23.48038911819458],\n",
       " [23681, 320, 23.585469007492065],\n",
       " [21121, 330, 24.622106075286865],\n",
       " [18361, 340, 22.43403697013855],\n",
       " [15401, 350, 16.59203791618347],\n",
       " [12241, 360, 16.135003089904785],\n",
       " [8881, 370, 11.363914012908936],\n",
       " [5321, 380, 7.23248815536499],\n",
       " [1561, 390, 2.111679792404175]]"
      ]
     },
     "execution_count": 27,
     "metadata": {},
     "output_type": "execute_result"
    }
   ],
   "source": [
    "the_times"
   ]
  },
  {
   "cell_type": "code",
   "execution_count": 49,
   "metadata": {},
   "outputs": [
    {
     "name": "stdout",
     "output_type": "stream",
     "text": [
      "394 0\n"
     ]
    }
   ],
   "source": [
    "a_rel, g_a, s_p_a, artists_in_set, artists_not_in_set, ai = main_setup(394)"
   ]
  },
  {
   "cell_type": "code",
   "execution_count": 99,
   "metadata": {},
   "outputs": [],
   "source": [
    "save_best(\"overall_GCSD_small_train_newform\", overall_best_values)"
   ]
  },
  {
   "cell_type": "code",
   "execution_count": 56,
   "metadata": {},
   "outputs": [],
   "source": [
    "# overall_best_values\n",
    "np.save('saved_data/ground', a_rel)"
   ]
  },
  {
   "cell_type": "code",
   "execution_count": 93,
   "metadata": {},
   "outputs": [
    {
     "name": "stdout",
     "output_type": "stream",
     "text": [
      "[370, 4361.8501192994518, 769.06240747936101, 2.7589871444699829, 2.0556987810903906]\n"
     ]
    }
   ],
   "source": [
    "best_Ns = []\n",
    "\n",
    "for best_values in overall_best_values:\n",
    "    del best_values[0]\n",
    "    best_n = max(best_values, key= lambda x: x[1])\n",
    "    best_Ns.append(best_n)\n",
    "    print best_n\n",
    "        \n",
    "# save_best(\"best_n\", best_Ns)"
   ]
  },
  {
   "cell_type": "code",
   "execution_count": 94,
   "metadata": {},
   "outputs": [
    {
     "data": {
      "text/plain": [
       "[[[70,\n",
       "   83.759197555915804,\n",
       "   128.00905017934673,\n",
       "   1.6741700455207682,\n",
       "   0.39083393535574679],\n",
       "  [90,\n",
       "   244.24557748140668,\n",
       "   192.41304807248162,\n",
       "   3.3384099180438573,\n",
       "   0.38023538253267464],\n",
       "  [110,\n",
       "   243.37651917312283,\n",
       "   230.29017588732304,\n",
       "   2.5149680699823405,\n",
       "   0.4202142621196866],\n",
       "  [130,\n",
       "   359.7938180119076,\n",
       "   262.40602066577287,\n",
       "   3.3044792514930812,\n",
       "   0.41493194554915391],\n",
       "  [150,\n",
       "   829.65128864002054,\n",
       "   327.45943615233551,\n",
       "   3.4531796488336135,\n",
       "   0.73370065984339561],\n",
       "  [170,\n",
       "   723.66223164031283,\n",
       "   347.93359674887785,\n",
       "   2.6571825559777471,\n",
       "   0.78274111726036244],\n",
       "  [190,\n",
       "   930.08081106563918,\n",
       "   378.58262851976565,\n",
       "   2.6655951360680046,\n",
       "   0.9216495488435168],\n",
       "  [210,\n",
       "   1175.4981334825109,\n",
       "   433.29398348196929,\n",
       "   2.6536294059990091,\n",
       "   1.0223486175532872],\n",
       "  [230,\n",
       "   2279.4605047391151,\n",
       "   483.11579308466423,\n",
       "   3.5807334675171392,\n",
       "   1.3176766240431446],\n",
       "  [250,\n",
       "   1893.8488930781564,\n",
       "   518.36873489819914,\n",
       "   2.7003806375713633,\n",
       "   1.3529493541918951],\n",
       "  [270,\n",
       "   2249.0925985559657,\n",
       "   551.96006402025068,\n",
       "   2.7213195353450197,\n",
       "   1.497339014651841],\n",
       "  [290,\n",
       "   2540.1452181353952,\n",
       "   599.68330751547194,\n",
       "   2.7040578302899747,\n",
       "   1.5664646907151876],\n",
       "  [310,\n",
       "   3038.325973852403,\n",
       "   652.72086432133324,\n",
       "   2.7456967671137598,\n",
       "   1.6953302011630698],\n",
       "  [330,\n",
       "   3552.0119205326882,\n",
       "   697.63447390261501,\n",
       "   2.7452603519261585,\n",
       "   1.8546541832103096],\n",
       "  [350,\n",
       "   3984.3198374783788,\n",
       "   734.32019555660816,\n",
       "   2.7545673256402656,\n",
       "   1.9697691419711318],\n",
       "  [370,\n",
       "   4361.8501192994518,\n",
       "   769.06240747936101,\n",
       "   2.7589871444699829,\n",
       "   2.0556987810903906]]]"
      ]
     },
     "execution_count": 94,
     "metadata": {},
     "output_type": "execute_result"
    }
   ],
   "source": [
    "overall_best_values"
   ]
  },
  {
   "cell_type": "code",
   "execution_count": 106,
   "metadata": {},
   "outputs": [
    {
     "ename": "NameError",
     "evalue": "name 'load_things' is not defined",
     "output_type": "error",
     "traceback": [
      "\u001b[0;31m---------------------------------------------------------------------------\u001b[0m",
      "\u001b[0;31mNameError\u001b[0m                                 Traceback (most recent call last)",
      "\u001b[0;32m<ipython-input-106-562ad5651258>\u001b[0m in \u001b[0;36m<module>\u001b[0;34m()\u001b[0m\n\u001b[1;32m      1\u001b[0m \u001b[0;31m# find best N\u001b[0m\u001b[0;34m\u001b[0m\u001b[0;34m\u001b[0m\u001b[0m\n\u001b[0;32m----> 2\u001b[0;31m \u001b[0md\u001b[0m \u001b[0;34m=\u001b[0m \u001b[0mload_things\u001b[0m\u001b[0;34m(\u001b[0m\u001b[0;34m'saved_data/overall_best_small_train_10.pickle'\u001b[0m\u001b[0;34m)\u001b[0m\u001b[0;34m\u001b[0m\u001b[0m\n\u001b[0m\u001b[1;32m      3\u001b[0m \u001b[0mbest_n\u001b[0m \u001b[0;34m=\u001b[0m \u001b[0mmax\u001b[0m\u001b[0;34m(\u001b[0m\u001b[0md\u001b[0m\u001b[0;34m,\u001b[0m \u001b[0mkey\u001b[0m\u001b[0;34m=\u001b[0m \u001b[0;32mlambda\u001b[0m \u001b[0mx\u001b[0m\u001b[0;34m:\u001b[0m \u001b[0mx\u001b[0m\u001b[0;34m[\u001b[0m\u001b[0;36m1\u001b[0m\u001b[0;34m]\u001b[0m\u001b[0;34m)\u001b[0m\u001b[0;34m[\u001b[0m\u001b[0;36m0\u001b[0m\u001b[0;34m]\u001b[0m\u001b[0;34m\u001b[0m\u001b[0m\n",
      "\u001b[0;31mNameError\u001b[0m: name 'load_things' is not defined"
     ]
    }
   ],
   "source": [
    "# find best N\n",
    "best_n = max(list_of_best_values, key= lambda x: x[1])[0]    "
   ]
  },
  {
   "cell_type": "code",
   "execution_count": 107,
   "metadata": {},
   "outputs": [
    {
     "data": {
      "text/plain": [
       "[160, 0.77985873843299269]"
      ]
     },
     "execution_count": 107,
     "metadata": {},
     "output_type": "execute_result"
    }
   ],
   "source": [
    "best_n"
   ]
  },
  {
   "cell_type": "code",
   "execution_count": 131,
   "metadata": {},
   "outputs": [
    {
     "data": {
      "text/plain": [
       "([0.65356870938280831,\n",
       "  0.66606813672816767,\n",
       "  0.64866463145636821,\n",
       "  0.67480396744864479,\n",
       "  0.64831049122515105,\n",
       "  0.64826098224776318,\n",
       "  0.65981049216326459,\n",
       "  0.66099311901321589,\n",
       "  0.642476769099668,\n",
       "  0.64777515111703599,\n",
       "  0.65578642618870531,\n",
       "  0.63953530567651939,\n",
       "  0.647303087683052,\n",
       "  0.64969380903907237,\n",
       "  0.62368621745752673,\n",
       "  0.64089189389739198,\n",
       "  0.64602399468385385,\n",
       "  0.62356576138079822,\n",
       "  0.6557206020386569,\n",
       "  0.63032518568913765],\n",
       " [0.78069426800922037,\n",
       "  0.78221230343918069,\n",
       "  0.7879740306687476,\n",
       "  0.78607502964824227,\n",
       "  0.78493178046596079,\n",
       "  0.78495336553512007,\n",
       "  0.78235411140336342,\n",
       "  0.78905053018872529,\n",
       "  0.78353011423119301,\n",
       "  0.78071054159265496,\n",
       "  0.78341040909556037,\n",
       "  0.78953767727371682,\n",
       "  0.7830275934421268,\n",
       "  0.78181276011080969,\n",
       "  0.7824208871565006,\n",
       "  0.78227219772663215,\n",
       "  0.78211105300484784,\n",
       "  0.7820047853743306,\n",
       "  0.78423290280278091,\n",
       "  0.78159199486138464])"
      ]
     },
     "execution_count": 131,
     "metadata": {},
     "output_type": "execute_result"
    }
   ],
   "source": [
    "# find starting and end points for best N for 20 points\n",
    "st_pt = []\n",
    "end_pt = []\n",
    "for i in range(20):\n",
    "    a_rel, g_a, s_p_a, artists_in_set, artists_not_in_set, ai = main_setup(n, artist_all, genre_artist_master, artist_rel_master, artist_index)\n",
    "    v = main_run(N, g_a, s_p_a, a_rel, artists_in_set, artists_not_in_set, songs_per_artist, genre_artist_master, artist_rel_master, artist_index, ai)\n",
    "    st_pt.append(v[0])\n",
    "    end_pt.append(v[-1])"
   ]
  },
  {
   "cell_type": "code",
   "execution_count": 132,
   "metadata": {},
   "outputs": [],
   "source": [
    "def save_goodness(name, table):\n",
    "    with open('saved_data/%s.pickle'%name, 'wb') as writer:\n",
    "        pickle.dump(table, writer, protocol=pickle.HIGHEST_PROTOCOL)\n",
    "        \n",
    "save_goodness(\"best_st_pt\", st_pt)\n",
    "save_goodness(\"best_end_pt\", end_pt)\n"
   ]
  },
  {
   "cell_type": "code",
   "execution_count": 1,
   "metadata": {},
   "outputs": [
    {
     "ename": "NameError",
     "evalue": "name 'st_pt' is not defined",
     "output_type": "error",
     "traceback": [
      "\u001b[0;31m---------------------------------------------------------------------------\u001b[0m",
      "\u001b[0;31mNameError\u001b[0m                                 Traceback (most recent call last)",
      "\u001b[0;32m<ipython-input-1-26f3a10bc4d5>\u001b[0m in \u001b[0;36m<module>\u001b[0;34m()\u001b[0m\n\u001b[0;32m----> 1\u001b[0;31m \u001b[0mst_pt\u001b[0m\u001b[0;34m\u001b[0m\u001b[0m\n\u001b[0m",
      "\u001b[0;31mNameError\u001b[0m: name 'st_pt' is not defined"
     ]
    }
   ],
   "source": []
  },
  {
   "cell_type": "code",
   "execution_count": null,
   "metadata": {},
   "outputs": [],
   "source": []
  }
 ],
 "metadata": {
  "kernelspec": {
   "display_name": "Python 2",
   "language": "python",
   "name": "python2"
  },
  "language_info": {
   "codemirror_mode": {
    "name": "ipython",
    "version": 2
   },
   "file_extension": ".py",
   "mimetype": "text/x-python",
   "name": "python",
   "nbconvert_exporter": "python",
   "pygments_lexer": "ipython2",
   "version": "2.7.14"
  }
 },
 "nbformat": 4,
 "nbformat_minor": 2
}
