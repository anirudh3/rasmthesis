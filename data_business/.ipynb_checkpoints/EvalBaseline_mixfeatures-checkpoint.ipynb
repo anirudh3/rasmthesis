{
 "cells": [
  {
   "cell_type": "markdown",
   "metadata": {},
   "source": [
    "# Clustering -- Spectral Centroid, RMSE, ZCR"
   ]
  },
  {
   "cell_type": "code",
   "execution_count": 1,
   "metadata": {
    "collapsed": true
   },
   "outputs": [],
   "source": [
    "## Import\n",
    "%matplotlib inline\n",
    "from sklearn.cluster import KMeans\n",
    "from sklearn.decomposition import PCA as sklearnPCA\n",
    "from sklearn.discriminant_analysis import LinearDiscriminantAnalysis as LDA\n",
    "import collections, numpy\n",
    "from scipy import spatial\n",
    "import numpy as np\n",
    "import librosa\n",
    "import math\n",
    "import re\n",
    "import os, sys\n",
    "import pandas as pd\n",
    "import IPython.display as ipd\n",
    "import pickle\n",
    "import matplotlib.pyplot as plt\n",
    "import matplotlib.cm as cm\n",
    "from scipy.spatial.distance import cdist\n",
    "from sklearn.manifold import TSNE"
   ]
  },
  {
   "cell_type": "code",
   "execution_count": 2,
   "metadata": {},
   "outputs": [
    {
     "name": "stderr",
     "output_type": "stream",
     "text": [
      "/Users/anirudhmani/anaconda2/lib/python2.7/site-packages/IPython/core/interactiveshell.py:2718: DtypeWarning: Columns (0,1,5,6,8,12,18,20,21,22,24,33,34,38,39,44,47,49) have mixed types. Specify dtype option on import or set low_memory=False.\n",
      "  interactivity=interactivity, compiler=compiler, result=result)\n",
      "/Users/anirudhmani/anaconda2/lib/python2.7/site-packages/IPython/core/interactiveshell.py:2718: DtypeWarning: Columns (0,1,2,3,4,5,6,7,8,9,10,11,12,13,14,15,16,17,18,19,20,21,22,23,24,25,26,27,28,29,30,31,32,33,34,35,36,37,38,39,40,41,42,43,44,45,46,47,48,49,50,51,52,53,54,55,56,57,58,59,60,61,62,63,64,65,66,67,68,69,70,71,72,73,74,75,76,77,78,79,80,81,82,83,84,85,86,87,88,89,90,91,92,93,94,95,96,97,98,99,100,101,102,103,104,105,106,107,108,109,110,111,112,113,114,115,116,117,118,119,120,121,122,123,124,125,126,127,128,129,130,131,132,133,134,135,136,137,138,139,140,141,142,143,144,145,146,147,148,149,150,151,152,153,154,155,156,157,158,159,160,161,162,163,164,165,166,167,168,169,170,171,172,173,174,175,176,177,178,179,180,181,182,183,184,185,186,187,188,189,190,191,192,193,194,195,196,197,198,199,200,201,202,203,204,205,206,207,208,209,210,211,212,213,214,215,216,217,218,219,220,221,222,223,224,225,226,227,228,229,230,231,232,233,234,235,236,237,238,239,240,241,242,243,244,245,246,247,248,249,250,251,252,253,254,255,256,257,258,259,260,261,262,263,264,265,266,267,268,269,270,271,272,273,274,275,276,277,278,279,280,281,282,283,284,285,286,287,288,289,290,291,292,293,294,295,296,297,298,299,300,301,302,303,304,305,306,307,308,309,310,311,312,313,314,315,316,317,318,319,320,321,322,323,324,325,326,327,328,329,330,331,332,333,334,335,336,337,338,339,340,341,342,343,344,345,346,347,348,349,350,351,352,353,354,355,356,357,358,359,360,361,362,363,364,365,366,367,368,369,370,371,372,373,374,375,376,377,378,379,380,381,382,383,384,385,386,387,388,389,390,391,392,393,394,395,396,397,398,399,400,401,402,403,404,405,406,407,408,409,410,411,412,413,414,415,416,417,418,419,420,421,422,423,424,425,426,427,428,429,430,431,432,433,434,435,436,437,438,439,440,441,442,443,444,445,446,447,448,449,450,451,452,453,454,455,456,457,458,459,460,461,462,463,464,465,466,467,468,469,470,471,472,473,474,475,476,477,478,479,480,481,482,483,484,485,486,487,488,489,490,491,492,493,494,495,496,497,498,499,500,501,502,503,504,505,506,507,508,509,510,511,512,513,514,515,516,517,518) have mixed types. Specify dtype option on import or set low_memory=False.\n",
      "  interactivity=interactivity, compiler=compiler, result=result)\n",
      "/Users/anirudhmani/anaconda2/lib/python2.7/site-packages/IPython/core/interactiveshell.py:2718: DtypeWarning: Columns (0,1,2,3,4,5,6,7,8,11,13,16,17,18,19,20,21,22,23,24,25,26,27,28,29,30,31,32,33,34,35,36,37,38,39,40,41,42,43,44,45,46,47,48,49,50,51,52,53,54,55,56,57,58,59,60,61,62,63,64,65,66,67,68,69,70,71,72,73,74,75,76,77,78,79,80,81,82,83,84,85,86,87,88,89,90,91,92,93,94,95,96,97,98,99,100,101,102,103,104,105,106,107,108,109,110,111,112,113,114,115,116,117,118,119,120,121,122,123,124,125,126,127,128,129,130,131,132,133,134,135,136,137,138,139,140,141,142,143,144,145,146,147,148,149,150,151,152,153,154,155,156,157,158,159,160,161,162,163,164,165,166,167,168,169,170,171,172,173,174,175,176,177,178,179,180,181,182,183,184,185,186,187,188,189,190,191,192,193,194,195,196,197,198,199,200,201,202,203,204,205,206,207,208,209,210,211,212,213,214,215,216,217,218,219,220,221,222,223,224,225,226,227,228,229,230,231,232,233,234,235,236,237,238,239,240,241,242,243,244,245,246,247,248,249) have mixed types. Specify dtype option on import or set low_memory=False.\n",
      "  interactivity=interactivity, compiler=compiler, result=result)\n"
     ]
    }
   ],
   "source": [
    "# Load metadata and features.\n",
    "tracks = pd.read_csv('fma_metadata/tracks.csv')\n",
    "r_tracks = pd.read_csv('fma_metadata/raw_tracks.csv')\n",
    "genres = pd.read_csv('fma_metadata/genres.csv')\n",
    "features = pd.read_csv('fma_metadata/features.csv')\n",
    "echonest = pd.read_csv('fma_metadata/echonest.csv')\n",
    "r_artists = pd.read_csv('fma_metadata/raw_artists.csv')"
   ]
  },
  {
   "cell_type": "code",
   "execution_count": 3,
   "metadata": {
    "collapsed": true
   },
   "outputs": [],
   "source": [
    "# overall subset\n",
    "tracks_sm = tracks.loc[(tracks['set.1'] == 'small') & (tracks['set'] == 'training')]"
   ]
  },
  {
   "cell_type": "code",
   "execution_count": null,
   "metadata": {
    "collapsed": true
   },
   "outputs": [],
   "source": []
  },
  {
   "cell_type": "code",
   "execution_count": null,
   "metadata": {
    "collapsed": true
   },
   "outputs": [],
   "source": []
  },
  {
   "cell_type": "code",
   "execution_count": 69,
   "metadata": {
    "collapsed": true
   },
   "outputs": [],
   "source": [
    "# Get Features\n",
    "# ipd.display(features)\n",
    "\n",
    "f1 = features['feature']\n",
    "# f2 = features[['spectral_centroid','spectral_centroid.1', 'spectral_centroid.2', 'spectral_centroid.3', 'spectral_centroid.4', 'spectral_centroid.5', 'spectral_centroid.6']]\n",
    "# f3 = features.iloc[:, 512:]\n",
    "# f3 = features.iloc[:, 393:400]\n",
    "# f2 = features.iloc[:, 253:393] # mfcc\n",
    "f2 = features.iloc[:, 400:470] # spectral bunch\n",
    "fs = pd.concat([f1, f2], axis=1)\n",
    "# fs = pd.concat([fs, f3], axis=1)\n",
    "\n",
    "fs = fs.loc[fs['feature'].isin(tracks_sm['Unnamed: 0'])]\n",
    "\n",
    "# ipd.display(fs)\n",
    "\n",
    "overall_fs = fs.values[:, 1:]\n",
    "# ipd.display(features.iloc[:, 512:]) # zcr"
   ]
  },
  {
   "cell_type": "code",
   "execution_count": 76,
   "metadata": {},
   "outputs": [
    {
     "data": {
      "text/plain": [
       "(5634, 70)"
      ]
     },
     "execution_count": 76,
     "metadata": {},
     "output_type": "execute_result"
    }
   ],
   "source": [
    "# features.columns[400:470]\n",
    "# features.columns[393:400]\n",
    "overall_fs.shape\n",
    "# ipd.display(overall_fs)"
   ]
  },
  {
   "cell_type": "code",
   "execution_count": 18,
   "metadata": {
    "collapsed": true
   },
   "outputs": [],
   "source": [
    "def get_bog_model(data, num_clusters):\n",
    "    # all features in all songs in all artists\n",
    "    # X = get_data\n",
    "#     A = 100\n",
    "#     F = 13\n",
    "#     all_features = numpy.random.rand(A, F)\n",
    "    model = KMeans(num_clusters)\n",
    "    model.fit(data)\n",
    "    return model"
   ]
  },
  {
   "cell_type": "code",
   "execution_count": 7,
   "metadata": {},
   "outputs": [
    {
     "data": {
      "image/png": "[encoded data removed]",
      "text/plain": [
       "<matplotlib.figure.Figure at 0x1c2594b310>"
      ]
     },
     "metadata": {},
     "output_type": "display_data"
    }
   ],
   "source": [
    "# Using elbow method\n",
    "\n",
    "errors = []\n",
    "\n",
    "for k in range(10, 1000, 50):\n",
    "    model = get_bog_model(overall_fs, k)\n",
    "    errors.append(sum(np.min(cdist(overall_fs, model.cluster_centers_, 'euclidean'), axis=1)) / overall_fs.shape[0])\n",
    "    \n",
    "    \n",
    "plt.plot(range(10, 1000, 50), errors, 'bx-')\n",
    "plt.xlabel('k')\n",
    "plt.ylabel('errors')\n",
    "plt.title('The Elbow Method showing the optimal k')\n",
    "plt.savefig('figures/eval_elbow_mixfeats.jpg')"
   ]
  },
  {
   "cell_type": "code",
   "execution_count": 77,
   "metadata": {
    "collapsed": true
   },
   "outputs": [],
   "source": [
    "model = get_bog_model(overall_fs, 70) # going for 100 clusters"
   ]
  },
  {
   "cell_type": "code",
   "execution_count": 17,
   "metadata": {
    "collapsed": true
   },
   "outputs": [],
   "source": [
    "def save_things(name, table):\n",
    "    with open('saved_data/%s.pickle'%name, 'wb') as writer:\n",
    "        pickle.dump(table, writer, protocol=pickle.HIGHEST_PROTOCOL)"
   ]
  },
  {
   "cell_type": "code",
   "execution_count": 8,
   "metadata": {
    "collapsed": true
   },
   "outputs": [],
   "source": [
    "save_things('cluster_60_model', model)"
   ]
  },
  {
   "cell_type": "code",
   "execution_count": 89,
   "metadata": {
    "collapsed": true
   },
   "outputs": [],
   "source": []
  },
  {
   "cell_type": "code",
   "execution_count": 171,
   "metadata": {},
   "outputs": [
    {
     "data": {
      "text/plain": [
       "(5694, 70)"
      ]
     },
     "execution_count": 171,
     "metadata": {},
     "output_type": "execute_result"
    }
   ],
   "source": [
    "fs_viz.shape"
   ]
  },
  {
   "cell_type": "code",
   "execution_count": 84,
   "metadata": {},
   "outputs": [
    {
     "data": {
      "image/png": "[encoded data removed]",
      "text/plain": [
       "<matplotlib.figure.Figure at 0x1c2ad6cc10>"
      ]
     },
     "metadata": {},
     "output_type": "display_data"
    }
   ],
   "source": [
    "# visualizing all the data\n",
    "colors = iter(cm.rainbow(np.linspace(0, 1, 60)))\n",
    "\n",
    "fs_viz = np.concatenate((overall_fs, model.cluster_centers_))\n",
    "\n",
    "for i in range(1):\n",
    "    idx = np.where(model.labels_==i)\n",
    "    pca_viz = sklearnPCA(n_components=2)\n",
    "#     pca_viz = TSNE(n_components=2)\n",
    "    transformed = pd.DataFrame(pca_viz.fit_transform(overall_fs[idx]))\n",
    "    plt.scatter(transformed[0], transformed[1], c=next(colors))\n",
    "\n",
    "    \n",
    "# visualizing the centers\n",
    "pca_viz = sklearnPCA(n_components=2)\n",
    "# pca_viz = TSNE(n_components=2)\n",
    "transformed = pd.DataFrame(pca_viz.fit_transform(model.cluster_centers_))\n",
    "plt.scatter(transformed[0][0], transformed[1][0], c='black', s=200, alpha=0.5)    \n",
    "\n",
    "# plt.show()\n",
    "plt.savefig('figures/eval_clusters.jpg')"
   ]
  },
  {
   "cell_type": "code",
   "execution_count": 20,
   "metadata": {
    "collapsed": true
   },
   "outputs": [],
   "source": [
    "# load artists Full Set\n",
    "def load_spot_rel_artists(name):\n",
    "    with open(name, 'rb') as handle:\n",
    "        thing = pickle.load(handle)   \n",
    "    return thing"
   ]
  },
  {
   "cell_type": "code",
   "execution_count": 21,
   "metadata": {
    "collapsed": true
   },
   "outputs": [],
   "source": [
    "# dont run this here\n",
    "res = load_spot_rel_artists(\"saved_data/results_eval.pickle\")"
   ]
  },
  {
   "cell_type": "code",
   "execution_count": 22,
   "metadata": {},
   "outputs": [
    {
     "ename": "NameError",
     "evalue": "name 'artist_sim_matrix' is not defined",
     "output_type": "error",
     "traceback": [
      "\u001b[0;31m---------------------------------------------------------------------------\u001b[0m",
      "\u001b[0;31mNameError\u001b[0m                                 Traceback (most recent call last)",
      "\u001b[0;32m<ipython-input-22-3b74581ab739>\u001b[0m in \u001b[0;36m<module>\u001b[0;34m()\u001b[0m\n\u001b[1;32m      1\u001b[0m \u001b[0;31m# model.labels_.shape\u001b[0m\u001b[0;34m\u001b[0m\u001b[0;34m\u001b[0m\u001b[0m\n\u001b[1;32m      2\u001b[0m \u001b[0;31m# overall_fs.shape\u001b[0m\u001b[0;34m\u001b[0m\u001b[0;34m\u001b[0m\u001b[0m\n\u001b[0;32m----> 3\u001b[0;31m \u001b[0mnp\u001b[0m\u001b[0;34m.\u001b[0m\u001b[0mmin\u001b[0m\u001b[0;34m(\u001b[0m\u001b[0martist_sim_matrix\u001b[0m\u001b[0;34m[\u001b[0m\u001b[0mnp\u001b[0m\u001b[0;34m.\u001b[0m\u001b[0mnonzero\u001b[0m\u001b[0;34m(\u001b[0m\u001b[0martist_sim_matrix\u001b[0m\u001b[0;34m)\u001b[0m\u001b[0;34m]\u001b[0m\u001b[0;34m)\u001b[0m\u001b[0;34m\u001b[0m\u001b[0m\n\u001b[0m",
      "\u001b[0;31mNameError\u001b[0m: name 'artist_sim_matrix' is not defined"
     ]
    }
   ],
   "source": [
    "# model.labels_.shape\n",
    "# overall_fs.shape\n",
    "np.min(artist_sim_matrix[np.nonzero(artist_sim_matrix)])"
   ]
  },
  {
   "cell_type": "code",
   "execution_count": 23,
   "metadata": {
    "collapsed": true
   },
   "outputs": [],
   "source": [
    "\n",
    "\n",
    "artist_rel = load_spot_rel_artists(\"saved_data/artist_rel_small_training.pickle\")\n",
    "\n",
    "# Creating Condensed Artist Map, and Master 2D Table\n",
    "artist_fs = {} # artists in Full Set\n",
    "\n",
    "for key in artist_rel:\n",
    "    artist_fs[key] = set()\n",
    "\n",
    "for key in artist_rel:\n",
    "    for elem in artist_rel[key]:\n",
    "        if artist_rel.get(elem, None) is not None:\n",
    "            artist_fs[key].add(elem)\n",
    "            artist_fs[elem].add(key)\n",
    "\n",
    "# assert len(artist_all) == len(artist_rel)  \n",
    "# deleting artists with no related artist in set\n",
    "keys = artist_fs.keys()\n",
    "for key in keys:\n",
    "    if not artist_fs[key]:\n",
    "        del artist_fs[key]\n",
    "#         pass\n",
    "    else:\n",
    "        artist_fs[key] = list(artist_fs[key])\n",
    "        \n",
    "# Artist Index Map\n",
    "artist_index = {}\n",
    "for i, a in enumerate(artist_fs.keys()):\n",
    "    artist_index[a] = i\n",
    "\n"
   ]
  },
  {
   "cell_type": "code",
   "execution_count": 78,
   "metadata": {},
   "outputs": [
    {
     "data": {
      "text/plain": [
       "394"
      ]
     },
     "execution_count": 78,
     "metadata": {},
     "output_type": "execute_result"
    }
   ],
   "source": [
    "len(artist_fs)"
   ]
  },
  {
   "cell_type": "code",
   "execution_count": 24,
   "metadata": {
    "collapsed": true
   },
   "outputs": [],
   "source": [
    "# Input is num_clips * feature_dimension\n",
    "# Output is 1 * num_clusters \n",
    "def get_histogram_song(song_features, model, num_clusters):\n",
    "    clusters = model.predict(song_features)\n",
    "    Y = numpy.bincount(clusters, minlength=num_clusters)\n",
    "    return Y"
   ]
  },
  {
   "cell_type": "code",
   "execution_count": 25,
   "metadata": {
    "collapsed": true
   },
   "outputs": [],
   "source": [
    "# Input is num_songs * num_clusters \n",
    "# Output is 1 * num_clusters \n",
    "def get_artist_feature(all_songs_y):\n",
    "    artist_feature = numpy.sum(all_songs_y, axis=0)\n",
    "    return artist_feature/numpy.linalg.norm(artist_feature)"
   ]
  },
  {
   "cell_type": "code",
   "execution_count": 26,
   "metadata": {
    "collapsed": true
   },
   "outputs": [],
   "source": [
    "# Output is num_artists * num_clusters \n",
    "def construct_artist_similarity_matrix(model, num_clusters, num_artists, artist_index):\n",
    "    artist_similarity_matrix = numpy.zeros((num_artists, num_clusters))\n",
    "\n",
    "    # for artist_index, artist in enumerate(data):\n",
    "    for artist in (artist_index):\n",
    "        a_i = artist_index[artist]\n",
    "        artist_feature = []\n",
    "        # for song in artist:\n",
    "        \n",
    "        artist_fs = fs.loc[fs['feature'].isin(tracks_sm.loc[tracks_sm['artist.12'] == artist]['Unnamed: 0'])]\n",
    "        artist_fs = artist_fs.values[:, 1:]\n",
    "        \n",
    "        for song in artist_fs:\n",
    "            \n",
    "            song = song.reshape(1, len(song))\n",
    "            \n",
    "#             song_feature = []\n",
    "#             # for clip in song:\n",
    "#             for clip in range(10):\n",
    "#                 # is of 1 X F dimensions\n",
    "#                 # features = get_feature(clip)\n",
    "#                 features = numpy.random.rand(1,13)\n",
    "#                 song_feature.append(features)\n",
    "\n",
    "#             song_features = numpy.vstack(song_feature)\n",
    "\n",
    "            artist_feature.append(get_histogram_song(song, model, num_clusters))\n",
    "    \n",
    "        if artist_feature:\n",
    "            artist_feature = numpy.vstack(artist_feature)\n",
    "            artist_similarity_matrix[a_i, :] = get_artist_feature(artist_feature)\n",
    "    \n",
    "    return artist_similarity_matrix\n"
   ]
  },
  {
   "cell_type": "code",
   "execution_count": 79,
   "metadata": {
    "collapsed": true
   },
   "outputs": [],
   "source": [
    "artist_clusters_matrix = construct_artist_similarity_matrix(model, 70, len(artist_index), artist_index)"
   ]
  },
  {
   "cell_type": "code",
   "execution_count": 80,
   "metadata": {},
   "outputs": [
    {
     "name": "stdout",
     "output_type": "stream",
     "text": [
      "[ 0.          0.          0.          0.          0.          0.          0.\n",
      "  0.          0.          0.          0.          0.          0.          0.\n",
      "  0.          0.          0.          0.          0.57735027  0.          0.\n",
      "  0.          0.          0.          0.          0.          0.          0.\n",
      "  0.76980036  0.          0.          0.          0.          0.          0.\n",
      "  0.          0.          0.          0.          0.          0.          0.\n",
      "  0.          0.          0.          0.          0.          0.19245009\n",
      "  0.          0.          0.          0.19245009  0.          0.          0.\n",
      "  0.          0.          0.          0.          0.          0.          0.\n",
      "  0.          0.          0.          0.          0.          0.          0.\n",
      "  0.        ]\n"
     ]
    }
   ],
   "source": [
    "print artist_clusters_matrix[100]"
   ]
  },
  {
   "cell_type": "code",
   "execution_count": 29,
   "metadata": {
    "collapsed": true
   },
   "outputs": [],
   "source": [
    "def get_similarity(i, j, artist_similarity_matrix):\n",
    "#     v = 1.0 - spatial.distance.cosine(artist_similarity_matrix[i, :], artist_similarity_matrix[j, :])\n",
    "#     v = spatial.distance.cosine(artist_similarity_matrix[i, :], artist_similarity_matrix[j, :]) # simple cosine distance\n",
    "    v = spatial.distance.euclidean(artist_similarity_matrix[i, :], artist_similarity_matrix[j, :]) \n",
    "#     v = np.linalg.norm(artist_similarity_matrix[i, :] - artist_similarity_matrix[j, :])\n",
    "    return v"
   ]
  },
  {
   "cell_type": "code",
   "execution_count": 30,
   "metadata": {
    "collapsed": true
   },
   "outputs": [],
   "source": [
    "def scale(mat):\n",
    "    new = np.zeros(mat.shape)\n",
    "    for i in range(len(mat)):\n",
    "        m = np.amax(mat[i, :])\n",
    "        if m>0:\n",
    "            new[i, :] = 1 - mat[i, :]/m\n",
    "    return new    "
   ]
  },
  {
   "cell_type": "code",
   "execution_count": 81,
   "metadata": {
    "collapsed": true
   },
   "outputs": [],
   "source": [
    "artist_sim_matrix = np.zeros((len(artist_index), len(artist_index)))\n",
    "\n",
    "\n",
    "for a_i_1 in artist_index:\n",
    "    for a_i_2 in artist_index:\n",
    "#         if a_i_1 == a_i_2:\n",
    "#             continue\n",
    "#         print a_i_1, a_i_2\n",
    "#         print artist_index[a_i_1], artist_index[a_i_2]\n",
    "        sim = get_similarity(artist_index[a_i_1], artist_index[a_i_2], artist_clusters_matrix)\n",
    "        artist_sim_matrix[artist_index[a_i_1], artist_index[a_i_2]] = sim\n",
    "        artist_sim_matrix[artist_index[a_i_2], artist_index[a_i_1]] = sim\n",
    "\n"
   ]
  },
  {
   "cell_type": "code",
   "execution_count": 151,
   "metadata": {
    "collapsed": true
   },
   "outputs": [],
   "source": [
    "# artist_sim_matrix[40]"
   ]
  },
  {
   "cell_type": "code",
   "execution_count": 82,
   "metadata": {
    "collapsed": true
   },
   "outputs": [],
   "source": [
    "# scaling and getting actual similarity rather than distance\n",
    "artist_sim_matrix = scale(artist_sim_matrix)"
   ]
  },
  {
   "cell_type": "code",
   "execution_count": 34,
   "metadata": {
    "collapsed": true
   },
   "outputs": [],
   "source": [
    "# get the ground truth\n",
    "ground = np.load('saved_data/ground.npy')"
   ]
  },
  {
   "cell_type": "code",
   "execution_count": 35,
   "metadata": {
    "collapsed": true
   },
   "outputs": [],
   "source": [
    "# Thresholding\n",
    "# model_out = artist_sim_matrix > 0.5\n",
    "ground = ground > 0.5"
   ]
  },
  {
   "cell_type": "code",
   "execution_count": 36,
   "metadata": {
    "collapsed": true
   },
   "outputs": [],
   "source": [
    "for i in range(ground.shape[0]):\n",
    "    ground[i, i] = 1.0"
   ]
  },
  {
   "cell_type": "code",
   "execution_count": 85,
   "metadata": {
    "collapsed": true
   },
   "outputs": [],
   "source": [
    "sim_means = np.mean(artist_sim_matrix, axis=1)\n",
    "\n",
    "model_out = np.zeros(artist_sim_matrix.shape)\n",
    "\n",
    "for i in range(len(artist_sim_matrix)):\n",
    "    \n",
    "#     row_idx = np.argsort(artist_sim_matrix[i, :])[-k]\n",
    "#     thresh = artist_sim_matrix[i, row_idx]\n",
    "#     model_out[i, :] = artist_sim_matrix[i, :] > thresh\n",
    "    \n",
    "    # Top K Method\n",
    "    k = np.sum(ground[i, :] == 1)\n",
    "    row_idx = artist_sim_matrix[i, :].argsort()[::-1][:k]\n",
    "    model_out[i, row_idx] = 1.0\n",
    "    \n",
    "    \n",
    "    # Means method\n",
    "#     model_out[i, :] = artist_sim_matrix[i, :] > sim_means[i]\n",
    "#     model_out[i, :] = artist_sim_matrix[i, :] > 0.5\n"
   ]
  },
  {
   "cell_type": "code",
   "execution_count": 86,
   "metadata": {
    "collapsed": true
   },
   "outputs": [],
   "source": [
    "for i in range(model_out.shape[0]):\n",
    "    model_out[i, i] = 1.0"
   ]
  },
  {
   "cell_type": "code",
   "execution_count": 84,
   "metadata": {},
   "outputs": [
    {
     "data": {
      "text/plain": [
       "array([[ 1.,  0.,  0., ...,  0.,  0.,  0.],\n",
       "       [ 0.,  1.,  0., ...,  0.,  0.,  0.],\n",
       "       [ 0.,  0.,  0., ...,  0.,  0.,  0.],\n",
       "       ..., \n",
       "       [ 0.,  0.,  0., ...,  1.,  0.,  0.],\n",
       "       [ 0.,  0.,  0., ...,  0.,  1.,  0.],\n",
       "       [ 0.,  0.,  0., ...,  0.,  0.,  1.]])"
      ]
     },
     "execution_count": 84,
     "metadata": {},
     "output_type": "execute_result"
    }
   ],
   "source": [
    "model_out"
   ]
  },
  {
   "cell_type": "code",
   "execution_count": 54,
   "metadata": {},
   "outputs": [
    {
     "data": {
      "text/plain": [
       "(1286, 153950)"
      ]
     },
     "execution_count": 54,
     "metadata": {},
     "output_type": "execute_result"
    }
   ],
   "source": [
    "#calculating chance\n",
    "model_out = numpy.zeros((394, 394))\n",
    "for i in range(0, 394, 2):\n",
    "    for j in range(0, 394, 2):\n",
    "        model_out[i, j] = 1.0\n",
    "        \n",
    "model_out\n",
    "\n",
    "ntp = numpy.sum(ground == 1)\n",
    "ntn = numpy.sum(ground == 0)\n",
    "\n",
    "ntp, ntn"
   ]
  },
  {
   "cell_type": "code",
   "execution_count": 87,
   "metadata": {},
   "outputs": [
    {
     "data": {
      "text/plain": [
       "(400, 886, 152944, 1006, 0.31104199066874028, 0.99346541084767781)"
      ]
     },
     "execution_count": 87,
     "metadata": {},
     "output_type": "execute_result"
    }
   ],
   "source": [
    "# Measure Performance\n",
    "ntp = numpy.sum((model_out == 1) & (ground == 1))\n",
    "nfn = numpy.sum((model_out == 0) & (ground == 1))\n",
    "ntn = numpy.sum((model_out == 0) & (ground == 0))\n",
    "nfp = numpy.sum((model_out == 1) & (ground == 0))\n",
    "\n",
    "tpr = ntp*1.0/(ntp+nfn)\n",
    "tnr = ntn*1.0/(ntn+nfp)\n",
    "\n",
    "# float(tp)/tpg\n",
    "ntp, nfn, ntn, nfp, tpr, tnr"
   ]
  },
  {
   "cell_type": "code",
   "execution_count": 88,
   "metadata": {},
   "outputs": [
    {
     "data": {
      "text/plain": [
       "0.98781210543945996"
      ]
     },
     "execution_count": 88,
     "metadata": {},
     "output_type": "execute_result"
    }
   ],
   "source": [
    "# Accuaracy \n",
    "(ntp+ntn)*1.0/(ntp+nfn+ntn+nfp)"
   ]
  },
  {
   "cell_type": "code",
   "execution_count": 89,
   "metadata": {},
   "outputs": [
    {
     "name": "stdout",
     "output_type": "stream",
     "text": [
      "0.297176820208\n"
     ]
    }
   ],
   "source": [
    "# F1 Score\n",
    "p = ntp*1.0/(ntp+nfp)\n",
    "r = ntp*1.0/(ntp+nfn)\n",
    "\n",
    "f1 = 2 * (p * r)/(p + r)\n",
    "\n",
    "print f1\n"
   ]
  },
  {
   "cell_type": "code",
   "execution_count": 62,
   "metadata": {},
   "outputs": [
    {
     "data": {
      "text/plain": [
       "0.28887303851640511"
      ]
     },
     "execution_count": 62,
     "metadata": {},
     "output_type": "execute_result"
    }
   ],
   "source": [
    "# Precision\n",
    "ntp*1.0/(ntp+nfp)"
   ]
  },
  {
   "cell_type": "code",
   "execution_count": 63,
   "metadata": {},
   "outputs": [
    {
     "data": {
      "text/plain": [
       "1402"
      ]
     },
     "execution_count": 63,
     "metadata": {},
     "output_type": "execute_result"
    }
   ],
   "source": [
    "np.sum(model_out==1)"
   ]
  },
  {
   "cell_type": "code",
   "execution_count": 176,
   "metadata": {},
   "outputs": [
    {
     "data": {
      "text/plain": [
       "0.0"
      ]
     },
     "execution_count": 176,
     "metadata": {},
     "output_type": "execute_result"
    }
   ],
   "source": [
    "# Correlation"
   ]
  },
  {
   "cell_type": "code",
   "execution_count": 64,
   "metadata": {
    "collapsed": true
   },
   "outputs": [],
   "source": [
    "model_out = artist_sim_matrix"
   ]
  },
  {
   "cell_type": "code",
   "execution_count": null,
   "metadata": {
    "collapsed": true
   },
   "outputs": [],
   "source": []
  },
  {
   "cell_type": "code",
   "execution_count": 65,
   "metadata": {
    "collapsed": true
   },
   "outputs": [],
   "source": [
    "g_flatten = ground.flatten()\n",
    "m_flatten = model_out.flatten()"
   ]
  },
  {
   "cell_type": "code",
   "execution_count": 66,
   "metadata": {},
   "outputs": [
    {
     "data": {
      "text/plain": [
       "array([[ 1.        ,  0.12532433],\n",
       "       [ 0.12532433,  1.        ]])"
      ]
     },
     "execution_count": 66,
     "metadata": {},
     "output_type": "execute_result"
    }
   ],
   "source": [
    "np.corrcoef(g_flatten, m_flatten)"
   ]
  },
  {
   "cell_type": "code",
   "execution_count": 67,
   "metadata": {},
   "outputs": [
    {
     "data": {
      "text/plain": [
       "array([[  1.00000000e+00,   1.11022302e-16,   2.92893219e-01, ...,\n",
       "          1.11022302e-16,   1.11022302e-16,   1.11022302e-16],\n",
       "       [  1.11022302e-16,   1.00000000e+00,   2.92893219e-01, ...,\n",
       "          0.00000000e+00,   0.00000000e+00,   1.11022302e-16],\n",
       "       [  3.33066907e-16,   2.22044605e-16,   1.00000000e+00, ...,\n",
       "          2.22044605e-16,   2.22044605e-16,   3.33066907e-16],\n",
       "       ..., \n",
       "       [  1.11022302e-16,   0.00000000e+00,   2.92893219e-01, ...,\n",
       "          1.00000000e+00,   0.00000000e+00,   1.11022302e-16],\n",
       "       [  1.11022302e-16,   0.00000000e+00,   2.92893219e-01, ...,\n",
       "          0.00000000e+00,   1.00000000e+00,   1.11022302e-16],\n",
       "       [  1.11022302e-16,   1.11022302e-16,   2.92893219e-01, ...,\n",
       "          1.11022302e-16,   1.11022302e-16,   1.00000000e+00]])"
      ]
     },
     "execution_count": 67,
     "metadata": {},
     "output_type": "execute_result"
    }
   ],
   "source": [
    "model_out"
   ]
  },
  {
   "cell_type": "code",
   "execution_count": 68,
   "metadata": {},
   "outputs": [
    {
     "data": {
      "text/plain": [
       "array([[ True, False, False, ..., False, False, False],\n",
       "       [False,  True, False, ..., False, False, False],\n",
       "       [False, False,  True, ..., False, False, False],\n",
       "       ..., \n",
       "       [False, False, False, ...,  True, False, False],\n",
       "       [False, False, False, ..., False,  True, False],\n",
       "       [False, False, False, ..., False, False,  True]], dtype=bool)"
      ]
     },
     "execution_count": 68,
     "metadata": {},
     "output_type": "execute_result"
    }
   ],
   "source": [
    "ground"
   ]
  },
  {
   "cell_type": "markdown",
   "metadata": {},
   "source": []
  },
  {
   "cell_type": "code",
   "execution_count": 1,
   "metadata": {
    "collapsed": true
   },
   "outputs": [],
   "source": []
  },
  {
   "cell_type": "code",
   "execution_count": null,
   "metadata": {
    "collapsed": true
   },
   "outputs": [],
   "source": []
  }
 ],
 "metadata": {
  "kernelspec": {
   "display_name": "Python 2",
   "language": "python",
   "name": "python2"
  },
  "language_info": {
   "codemirror_mode": {
    "name": "ipython",
    "version": 2
   },
   "file_extension": ".py",
   "mimetype": "text/x-python",
   "name": "python",
   "nbconvert_exporter": "python",
   "pygments_lexer": "ipython2",
   "version": "2.7.14"
  }
 },
 "nbformat": 4,
 "nbformat_minor": 2
}
